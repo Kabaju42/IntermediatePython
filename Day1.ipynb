{
 "cells": [
  {
   "cell_type": "markdown",
   "metadata": {},
   "source": [
    "# Introduction\n",
    "## Tools:\n",
    "* Python 3\n",
    "* Anaconda\n",
    "* Pycharms\n",
    "\n",
    "## Websites:\n",
    "* Python.org\n",
    "* github.com\n",
    "* Jupyter\n",
    "* Pycharms"
   ]
  },
  {
   "cell_type": "markdown",
   "metadata": {},
   "source": [
    "## Markdown\n",
    "* .md file\n",
    "* [link] (https://en.wikipedia.org/wiki/Markdown)\n",
    "\n",
    "## Jupyter Notebook shortcuts\n",
    "* Esc to exit input mode (blue)\n",
    "* Enter to enter input mode (breen)\n",
    "* y -> Python\n",
    "* m -> Markdown\n",
    "* Shift-Enter -> run cell and add cell\n",
    "* Ctrl-Enter -> run cell \n"
   ]
  },
  {
   "cell_type": "code",
   "execution_count": 1,
   "metadata": {},
   "outputs": [
    {
     "name": "stdout",
     "output_type": "stream",
     "text": [
      "Hello Jypter\n"
     ]
    }
   ],
   "source": [
    "print(\"Hello Jypter\")"
   ]
  },
  {
   "cell_type": "markdown",
   "metadata": {},
   "source": [
    "# Intermediate python\n",
    "\n",
    "## Prerequisites:\n",
    "\n",
    "* Access the REPL\n",
    "* Define functions, pass information to parameters\n",
    "* Working with single modules, importing modules\n",
    "* Built-In Types:\n",
    " * int\n",
    " * float\n",
    " * str\n",
    " * list\n",
    " * dict\n",
    " * set\n",
    "* How the basic Python object model works for defined classes \n",
    "* Basics of raising and handling errors: Try, Except, finally\n",
    "* Basics of **iterables** and **iterators**,\n",
    " * For loops\n",
    " * while loops\n",
    " * next\n",
    " * iter\n",
    "* Reading and writing thext and binary files:\n",
    " * open\n",
    " * close \n",
    " * **with**\n",
    "* Special terminology:\n",
    " * \"dunder\" means \\_\\_\n",
    " * \\_\\_method\\_\\_\n",
    " \n",
    " \n",
    "See **review_classes.py**"
   ]
  },
  {
   "cell_type": "markdown",
   "metadata": {},
   "source": [
    "# Organizing Larger Programs\n",
    "### Packages\n",
    "The module is the basic tool to organize your code in Python.\n",
    "After you import it, it is represented as a **class module**.\n",
    "\n",
    "A **package** in Python is just a special type of module\n"
   ]
  },
  {
   "cell_type": "code",
   "execution_count": 2,
   "metadata": {
    "collapsed": true
   },
   "outputs": [],
   "source": [
    "# Examples\n",
    "import urllib\n",
    "import urllib.request"
   ]
  },
  {
   "cell_type": "code",
   "execution_count": 3,
   "metadata": {},
   "outputs": [
    {
     "name": "stdout",
     "output_type": "stream",
     "text": [
      "<class 'module'>\n",
      "<class 'module'>\n"
     ]
    }
   ],
   "source": [
    "print(type(urllib))\n",
    "print(type(urllib.request))"
   ]
  },
  {
   "cell_type": "code",
   "execution_count": 4,
   "metadata": {},
   "outputs": [
    {
     "name": "stdout",
     "output_type": "stream",
     "text": [
      "['C:\\\\ProgramData\\\\Anaconda3\\\\lib\\\\urllib']\n"
     ]
    }
   ],
   "source": [
    "# Where are you?\n",
    "print(urllib.__path__)"
   ]
  },
  {
   "cell_type": "code",
   "execution_count": 5,
   "metadata": {},
   "outputs": [
    {
     "ename": "AttributeError",
     "evalue": "module 'urllib.request' has no attribute '__path__'",
     "output_type": "error",
     "traceback": [
      "\u001b[1;31m---------------------------------------------------------------------------\u001b[0m",
      "\u001b[1;31mAttributeError\u001b[0m                            Traceback (most recent call last)",
      "\u001b[1;32m<ipython-input-5-96b896a7b674>\u001b[0m in \u001b[0;36m<module>\u001b[1;34m()\u001b[0m\n\u001b[0;32m      1\u001b[0m \u001b[1;31m# Where are you?\u001b[0m\u001b[1;33m\u001b[0m\u001b[1;33m\u001b[0m\u001b[0m\n\u001b[1;32m----> 2\u001b[1;33m \u001b[0mprint\u001b[0m\u001b[1;33m(\u001b[0m\u001b[0murllib\u001b[0m\u001b[1;33m.\u001b[0m\u001b[0mrequest\u001b[0m\u001b[1;33m.\u001b[0m\u001b[0m__path__\u001b[0m\u001b[1;33m)\u001b[0m\u001b[1;33m\u001b[0m\u001b[0m\n\u001b[0m",
      "\u001b[1;31mAttributeError\u001b[0m: module 'urllib.request' has no attribute '__path__'"
     ]
    }
   ],
   "source": [
    "# Where are you?\n",
    "print(urllib.request.__path__)"
   ]
  },
  {
   "cell_type": "markdown",
   "metadata": {},
   "source": [
    "Packages are generally represented by directories while **modules** are single files"
   ]
  },
  {
   "cell_type": "code",
   "execution_count": 6,
   "metadata": {},
   "outputs": [
    {
     "name": "stdout",
     "output_type": "stream",
     "text": [
      "['', 'C:\\\\ProgramData\\\\Anaconda3\\\\python36.zip', 'C:\\\\ProgramData\\\\Anaconda3\\\\DLLs', 'C:\\\\ProgramData\\\\Anaconda3\\\\lib', 'C:\\\\ProgramData\\\\Anaconda3', 'C:\\\\ProgramData\\\\Anaconda3\\\\lib\\\\site-packages', 'C:\\\\ProgramData\\\\Anaconda3\\\\lib\\\\site-packages\\\\Babel-2.5.0-py3.6.egg', 'C:\\\\ProgramData\\\\Anaconda3\\\\lib\\\\site-packages\\\\win32', 'C:\\\\ProgramData\\\\Anaconda3\\\\lib\\\\site-packages\\\\win32\\\\lib', 'C:\\\\ProgramData\\\\Anaconda3\\\\lib\\\\site-packages\\\\Pythonwin', 'C:\\\\ProgramData\\\\Anaconda3\\\\lib\\\\site-packages\\\\IPython\\\\extensions', 'C:\\\\Users\\\\merlynhall\\\\.ipython']\n"
     ]
    }
   ],
   "source": [
    "# sys path\n",
    "import sys \n",
    "print(sys.path)\n",
    "\n",
    "# note running the same lines in pycharms has a different list because it is a different python installation"
   ]
  },
  {
   "cell_type": "code",
   "execution_count": 7,
   "metadata": {},
   "outputs": [
    {
     "name": "stdout",
     "output_type": "stream",
     "text": [
      "C:\\ProgramData\\Anaconda3\\python36.zip\n",
      "C:\\Users\\merlynhall\\.ipython\n"
     ]
    }
   ],
   "source": [
    "print(sys.path[1])\n",
    "print(sys.path[-1])"
   ]
  },
  {
   "cell_type": "markdown",
   "metadata": {},
   "source": [
    "Note: See not_searched package in pycharms"
   ]
  },
  {
   "cell_type": "markdown",
   "metadata": {},
   "source": [
    "#### PYTHONPATH\n",
    "If you need to aler your **PYTHONPATH** variable use these commands:\n",
    "\n",
    "  * Windows: \n",
    "    * has a ; sperated field.\n",
    "    * set the Environment: **set-Item Env:PYTHONPATH \"not_searched\"**.\n",
    "      * Doesn't work in Pycharm, use powershell\n",
    "    * Only good for one session, willl be reset when you close the terminal/session.\n",
    "    * some people have a bash script to setup the environment for the job.\n",
    " \n",
    " \n",
    "  * Linux/OSX: \n",
    "    * has a : sperated field.\n",
    "    * Use the **set** command to set the environment."
   ]
  },
  {
   "cell_type": "markdown",
   "metadata": {},
   "source": [
    "## Implementing Packages\n",
    "\n",
    "The **\\_\\_ init\\_\\_.py** file is what makes a package a module.\n",
    "\n",
    "Note: See reader package\n",
    "\n",
    "The **\\_\\_ init\\_\\_.py** file can be blank and python will still recognize the directory."
   ]
  },
  {
   "cell_type": "markdown",
   "metadata": {},
   "source": [
    "to open files in a windows environment (absolute path) either use r' ' for raw or escape the backslashes"
   ]
  },
  {
   "cell_type": "code",
   "execution_count": 8,
   "metadata": {},
   "outputs": [
    {
     "name": "stdout",
     "output_type": "stream",
     "text": [
      "C:\\Users\\CCEClass1\\Documents\\merlynhall\\IntermediatePython\\reader\\reader.py\n",
      "C:\\Users\\CCEClass1\\Documents\\merlynhall\\IntermediatePython\\reader\\reader.py\n"
     ]
    }
   ],
   "source": [
    "i = 'C:\\\\Users\\\\CCEClass1\\\\Documents\\\\merlynhall\\\\IntermediatePython\\\\reader\\\\reader.py'\n",
    "print(i)\n",
    "\n",
    "# raw strings\n",
    "r = r'C:\\Users\\CCEClass1\\Documents\\merlynhall\\IntermediatePython\\reader\\reader.py'\n",
    "print(r)"
   ]
  },
  {
   "cell_type": "markdown",
   "metadata": {},
   "source": [
    "Create dummy files in the terminal\n",
    "\n",
    "python .\\reader\\compressed\\bzipped.py test.bz2 compressed with bz2\n",
    "\n",
    "python .\\reader\\compressed\\gzipped.py test.gzip compressed with bz2\n"
   ]
  },
  {
   "cell_type": "markdown",
   "metadata": {},
   "source": [
    "## Absolute & Relative Imports\n",
    "\n",
    "Everything we have so far are **absolute imports**. \n",
    "\n",
    "**Relative Imports** are only recommended if you're working on the same package.\n",
    "\n",
    "* Use one **.** dot for present working dir\n",
    "* Use two **..** dots for parent dir\n",
    "\n",
    "\n",
    "* from **.** import common\n",
    "* from **..** import common\n",
    "\n",
    "Pros: \n",
    "1. Can reduce typing in deeply nested package structures\n",
    "2. Promote certain forms of modifiability \n",
    "3. Can aid package renaming and refactoring\n",
    "4. General advice is to avoid on most cases"
   ]
  },
  {
   "cell_type": "markdown",
   "metadata": {},
   "source": [
    "### Pracitce\n",
    "**Farm** package\n",
    "* __init__.py\n",
    "* bird/\n",
    " * __init__py\n",
    " * chicken.py\n",
    " * turkey.py\n",
    "* bovine/\n",
    " * __init__.py\n",
    " * cow.py\n",
    " * ox.py\n",
    " * common.py"
   ]
  },
  {
   "cell_type": "markdown",
   "metadata": {},
   "source": [
    "## Controlling imports with \\_\\_all\\_\\_"
   ]
  },
  {
   "cell_type": "markdown",
   "metadata": {},
   "source": [
    "If \\_\\_all\\_\\_ is not specified, then all the public names will be imported to the session."
   ]
  },
  {
   "cell_type": "markdown",
   "metadata": {},
   "source": [
    "## Namespace Packages\n",
    "Some special cases, you may want to spread your package across multiple directories which would be useful when you want to split large packages into multiple parts\n",
    "\n",
    "Note: **PEP 420**\n",
    "\n",
    "### How does Python find namepsace packages?\n",
    "Python follows a realative easy algorithm to determine the namespaces\n",
    "1. Python scans all entries in sys.path\n",
    "2. If a matching directory with \\_\\_init\\_\\_ if found, a normal package is loaded.\n",
    "3. If \"**foo.py**\" is found, then it is loaded\n",
    "4. Otherwise all matching directories in sys.path are considered part of the namespace package"
   ]
  },
  {
   "cell_type": "markdown",
   "metadata": {},
   "source": [
    "## Executable directories\n",
    "Directories containing an entry point for Python execution\n",
    "\n",
    "Pakcages are ussually developed because there is a progrm you want to use."
   ]
  },
  {
   "cell_type": "markdown",
   "metadata": {
    "collapsed": true
   },
   "source": [
    "## Recommended Project Layout\n",
    "\n",
    "* Project_Name\n",
    "  * \\_\\_main\\_\\_.py\n",
    "    * project_name\n",
    "      * \\_\\_init\\_\\_.py\n",
    "      * more_source.py\n",
    "      * subpackage\n",
    "        * \\_\\_init\\_\\_.py\n",
    "        * more_source.py\n",
    "      * test\n",
    "        * \\_\\_init\\_\\_.py\n",
    "        * test_code.py\n",
    "  * setup.py"
   ]
  },
  {
   "cell_type": "markdown",
   "metadata": {
    "collapsed": true
   },
   "source": [
    "Modules:\n",
    "* Modules can be executed py passing them to python with the **-m** argument\n",
    "* \\_\\_all\\_\\_ attribute of a module is a list of strings specifying the names of the export when **from module** is import * is used"
   ]
  },
  {
   "cell_type": "markdown",
   "metadata": {},
   "source": [
    "# Andvanced Functions\n",
    "The first parameter for an instance method is **self**\n",
    "\n",
    "Function arguments come in two flavors:\n",
    "* positional\n",
    "* key word\n",
    "\n",
    "A particular argument may be passed as a positional argument in one call, but it is a keyword argument in another\n",
    "\n",
    "Python functions are **first class** objects\n",
    "\n",
    "The **def** keyword is repsonsible for binding a function object, which contains a function definition to a function name"
   ]
  },
  {
   "cell_type": "code",
   "execution_count": 9,
   "metadata": {},
   "outputs": [
    {
     "name": "stdout",
     "output_type": "stream",
     "text": [
      "Function Body\n"
     ]
    },
    {
     "data": {
      "text/plain": [
       "8.0"
      ]
     },
     "execution_count": 9,
     "metadata": {},
     "output_type": "execute_result"
    }
   ],
   "source": [
    "# Two required arguments\n",
    "# One optional\n",
    "def function_name(arg1, arg2, arg3 = 1.0):\n",
    "    \"\"\"Function docstrings\"\"\"\n",
    "    print(\"Function Body\")\n",
    "    return  (arg1 + arg2)/arg3\n",
    "\n",
    "# Call it\n",
    "function_name(3, 5)"
   ]
  },
  {
   "cell_type": "code",
   "execution_count": 10,
   "metadata": {},
   "outputs": [
    {
     "name": "stdout",
     "output_type": "stream",
     "text": [
      "Function Body\n"
     ]
    },
    {
     "data": {
      "text/plain": [
       "0.20588235294117646"
      ]
     },
     "execution_count": 10,
     "metadata": {},
     "output_type": "execute_result"
    }
   ],
   "source": [
    "function_name(3, arg2=4, arg3 = 34)"
   ]
  },
  {
   "cell_type": "code",
   "execution_count": 11,
   "metadata": {},
   "outputs": [
    {
     "name": "stdout",
     "output_type": "stream",
     "text": [
      "Function Body\n"
     ]
    },
    {
     "data": {
      "text/plain": [
       "4.8"
      ]
     },
     "execution_count": 11,
     "metadata": {},
     "output_type": "execute_result"
    }
   ],
   "source": [
    "function_name(arg3 = 2.5, arg1 = 3, arg2 = 9)"
   ]
  },
  {
   "cell_type": "code",
   "execution_count": 12,
   "metadata": {},
   "outputs": [
    {
     "name": "stdout",
     "output_type": "stream",
     "text": [
      "<function resolve at 0x000001B12C10D378>\n"
     ]
    },
    {
     "data": {
      "text/plain": [
       "'137.190.8.10'"
      ]
     },
     "execution_count": 12,
     "metadata": {},
     "output_type": "execute_result"
    }
   ],
   "source": [
    "# Another example\n",
    "import socket\n",
    "def resolve(host):\n",
    "    return socket.gethostbyname(host)\n",
    "\n",
    "print(resolve)\n",
    "\n",
    "resolve('weber.edu')"
   ]
  },
  {
   "cell_type": "code",
   "execution_count": 13,
   "metadata": {},
   "outputs": [
    {
     "data": {
      "text/plain": [
       "'216.58.216.14'"
      ]
     },
     "execution_count": 13,
     "metadata": {},
     "output_type": "execute_result"
    }
   ],
   "source": [
    "resolve('google.com')"
   ]
  },
  {
   "cell_type": "markdown",
   "metadata": {},
   "source": [
    "Function objects are callable objects in so far as we can call them"
   ]
  },
  {
   "cell_type": "markdown",
   "metadata": {},
   "source": [
    "## Callable instances\n",
    "Use the \\_\\_call\\_\\_() special method. It allows objects of our own design to be callable."
   ]
  },
  {
   "cell_type": "code",
   "execution_count": 14,
   "metadata": {
    "collapsed": true
   },
   "outputs": [],
   "source": [
    "import socket\n",
    "\n",
    "class Resolver:\n",
    "    def __init__(self):\n",
    "        self._cache = {}\n",
    "        \n",
    "    def __call__(self, host):\n",
    "        # make the instance callable - ie a function\n",
    "        if host not in self._cache:\n",
    "            self._cache[host] = socket.gethostbyname(host)\n",
    "        return self._cache\n",
    "    def clear(self):\n",
    "        self._cache.clear()\n",
    "        \n",
    "    def has_host(self, host):\n",
    "        return host in self._cache\n",
    "        \n",
    "        "
   ]
  },
  {
   "cell_type": "code",
   "execution_count": 15,
   "metadata": {},
   "outputs": [
    {
     "data": {
      "text/plain": [
       "{'weber.edu': '137.190.8.10'}"
      ]
     },
     "execution_count": 15,
     "metadata": {},
     "output_type": "execute_result"
    }
   ],
   "source": [
    "r = Resolver()\n",
    "r(\"weber.edu\")"
   ]
  },
  {
   "cell_type": "code",
   "execution_count": 16,
   "metadata": {},
   "outputs": [
    {
     "data": {
      "text/plain": [
       "{'kabaju.net': '166.70.198.171', 'weber.edu': '137.190.8.10'}"
      ]
     },
     "execution_count": 16,
     "metadata": {},
     "output_type": "execute_result"
    }
   ],
   "source": [
    "r(\"kabaju.net\")"
   ]
  },
  {
   "cell_type": "code",
   "execution_count": 17,
   "metadata": {},
   "outputs": [
    {
     "name": "stdout",
     "output_type": "stream",
     "text": [
      "{'weber.edu': '137.190.8.10', 'kabaju.net': '166.70.198.171', 'google.com': '216.58.216.14'}\n",
      "{'weber.edu': '137.190.8.10', 'kabaju.net': '166.70.198.171', 'google.com': '216.58.216.14'}\n"
     ]
    }
   ],
   "source": [
    "print(r('google.com'))\n",
    "print(r._cache)"
   ]
  },
  {
   "cell_type": "code",
   "execution_count": 18,
   "metadata": {},
   "outputs": [
    {
     "name": "stdout",
     "output_type": "stream",
     "text": [
      "{'weber.edu': '137.190.8.10', 'kabaju.net': '166.70.198.171', 'google.com': '216.58.216.14'}\n"
     ]
    }
   ],
   "source": [
    "print(r('kabaju.net'))"
   ]
  },
  {
   "cell_type": "code",
   "execution_count": 19,
   "metadata": {},
   "outputs": [
    {
     "name": "stdout",
     "output_type": "stream",
     "text": [
      "{'': '0.0.0.0', 'google.com': '216.58.216.14'}\n",
      "True\n"
     ]
    }
   ],
   "source": [
    "resolve = Resolver()\n",
    "resolve(\"\")\n",
    "print(resolve('google.com'))\n",
    "print(resolve.has_host('google.com'))\n"
   ]
  },
  {
   "cell_type": "code",
   "execution_count": 20,
   "metadata": {},
   "outputs": [
    {
     "name": "stdout",
     "output_type": "stream",
     "text": [
      "False\n"
     ]
    }
   ],
   "source": [
    "resolve.clear()\n",
    "print(resolve.has_host('google.com'))"
   ]
  },
  {
   "cell_type": "markdown",
   "metadata": {},
   "source": [
    "## Classes are callable\n",
    "See **sequence_class (immutable):** in callable.py"
   ]
  },
  {
   "cell_type": "markdown",
   "metadata": {},
   "source": [
    "## Lambda\n",
    "\n",
    "Named after Alonzo Church who developed lambda calculus\n",
    "\n",
    "See callable.py\n",
    "\n",
    "Lambda is itself an expression which results in a callable function\n",
    "\n",
    "use the keyword **lambda** to define a lambda function"
   ]
  },
  {
   "cell_type": "code",
   "execution_count": 21,
   "metadata": {},
   "outputs": [
    {
     "name": "stdout",
     "output_type": "stream",
     "text": [
      "Help on built-in function sorted in module builtins:\n",
      "\n",
      "sorted(iterable, /, *, key=None, reverse=False)\n",
      "    Return a new list containing all items from the iterable in ascending order.\n",
      "    \n",
      "    A custom key function can be supplied to customize the sort order, and the\n",
      "    reverse flag can be set to request the result in descending order.\n",
      "\n",
      "None\n"
     ]
    }
   ],
   "source": [
    "# to sort information, key optional value\n",
    "print(help(sorted))"
   ]
  },
  {
   "cell_type": "code",
   "execution_count": 22,
   "metadata": {},
   "outputs": [
    {
     "data": {
      "text/plain": [
       "function"
      ]
     },
     "execution_count": 22,
     "metadata": {},
     "output_type": "execute_result"
    }
   ],
   "source": [
    "# Our lambda takes on argument, called name,\n",
    "# in the body of the lambda after to colon calls the str.split method \n",
    "# and returns the last element of the resulting sequence using negative index\n",
    "last_name = lambda name: name.split()[-1]\n",
    "type(last_name)\n"
   ]
  },
  {
   "cell_type": "code",
   "execution_count": 23,
   "metadata": {},
   "outputs": [
    {
     "data": {
      "text/plain": [
       "'Waldo'"
      ]
     },
     "execution_count": 23,
     "metadata": {},
     "output_type": "execute_result"
    }
   ],
   "source": [
    "last_name('Weber Waldo')"
   ]
  },
  {
   "cell_type": "code",
   "execution_count": 24,
   "metadata": {},
   "outputs": [
    {
     "data": {
      "text/plain": [
       "'Harry'"
      ]
     },
     "execution_count": 24,
     "metadata": {},
     "output_type": "execute_result"
    }
   ],
   "source": [
    "# Regular function\n",
    "def first_name(name):\n",
    "    return name.split()[0]\n",
    "\n",
    "#Test it\n",
    "first_name('Harry Potter')"
   ]
  },
  {
   "cell_type": "markdown",
   "metadata": {
    "collapsed": true
   },
   "source": [
    "### Comparision Between Functions and Lambdas\n",
    "Function | Lambda\n",
    "---------|---------\n",
    "**Statements** which define a function and binds it to a name | **expression** which evluates to a function\n",
    "Must have a name | Anonymous\n",
    "Arguments delimited by parenthesies, and sperated by commas | Argument list terminated by colon, seperated by commas\n",
    "Zero or more arguments supported. Zero arguments => | Zero or more argumetns are supported. Zero argumetns =>  **lambda**\n",
    "Body is indented block of statements | The body is a single expression\n",
    "A return statement is requried to return anything than None | The retun Value is given by the body epxression. No return statment is permitted.\n",
    "Can have docstrings (help documentation) | Cannot have docstrings\n",
    "Easy to access for testing | Awkward or impossible to test "
   ]
  },
  {
   "cell_type": "markdown",
   "metadata": {},
   "source": [
    "# Detecting callable objects\n",
    "you can use the **callable()** built in function\n",
    "\n",
    "\n"
   ]
  },
  {
   "cell_type": "code",
   "execution_count": 25,
   "metadata": {},
   "outputs": [
    {
     "data": {
      "text/plain": [
       "True"
      ]
     },
     "execution_count": 25,
     "metadata": {},
     "output_type": "execute_result"
    }
   ],
   "source": [
    "def is_even(x):\n",
    "    return x %2 == 0\n",
    "\n",
    "callable(is_even)"
   ]
  },
  {
   "cell_type": "code",
   "execution_count": 26,
   "metadata": {},
   "outputs": [
    {
     "ename": "NameError",
     "evalue": "name 'is_odd' is not defined",
     "output_type": "error",
     "traceback": [
      "\u001b[1;31m---------------------------------------------------------------------------\u001b[0m",
      "\u001b[1;31mNameError\u001b[0m                                 Traceback (most recent call last)",
      "\u001b[1;32m<ipython-input-26-26397c665b5a>\u001b[0m in \u001b[0;36m<module>\u001b[1;34m()\u001b[0m\n\u001b[1;32m----> 1\u001b[1;33m \u001b[0mis_odd\u001b[0m\u001b[1;33m\u001b[0m\u001b[0m\n\u001b[0m",
      "\u001b[1;31mNameError\u001b[0m: name 'is_odd' is not defined"
     ]
    }
   ],
   "source": [
    "is_odd"
   ]
  },
  {
   "cell_type": "markdown",
   "metadata": {},
   "source": [
    "Classes are callable\n"
   ]
  },
  {
   "cell_type": "code",
   "execution_count": 27,
   "metadata": {},
   "outputs": [
    {
     "data": {
      "text/plain": [
       "True"
      ]
     },
     "execution_count": 27,
     "metadata": {},
     "output_type": "execute_result"
    }
   ],
   "source": [
    "callable(list)"
   ]
  },
  {
   "cell_type": "markdown",
   "metadata": {},
   "source": [
    "Methods are callable"
   ]
  },
  {
   "cell_type": "code",
   "execution_count": 28,
   "metadata": {},
   "outputs": [
    {
     "data": {
      "text/plain": [
       "True"
      ]
     },
     "execution_count": 28,
     "metadata": {},
     "output_type": "execute_result"
    }
   ],
   "source": [
    "callable(list.append)"
   ]
  },
  {
   "cell_type": "markdown",
   "metadata": {},
   "source": [
    "Instance objects can be callable by defining the duncer-call method"
   ]
  },
  {
   "cell_type": "code",
   "execution_count": 29,
   "metadata": {},
   "outputs": [
    {
     "data": {
      "text/plain": [
       "True"
      ]
     },
     "execution_count": 29,
     "metadata": {},
     "output_type": "execute_result"
    }
   ],
   "source": [
    "class CallMe:\n",
    "    def __call__(self):\n",
    "        print(\"Called!\")\n",
    "\n",
    "call = CallMe()\n",
    "callable(call)"
   ]
  },
  {
   "cell_type": "code",
   "execution_count": 30,
   "metadata": {},
   "outputs": [
    {
     "data": {
      "text/plain": [
       "False"
      ]
     },
     "execution_count": 30,
     "metadata": {},
     "output_type": "execute_result"
    }
   ],
   "source": [
    "callable('str')"
   ]
  },
  {
   "cell_type": "markdown",
   "metadata": {},
   "source": [
    "But not everything is callable, plenty of objects are not"
   ]
  },
  {
   "cell_type": "code",
   "execution_count": 31,
   "metadata": {},
   "outputs": [
    {
     "data": {
      "text/plain": [
       "False"
      ]
     },
     "execution_count": 31,
     "metadata": {},
     "output_type": "execute_result"
    }
   ],
   "source": [
    "d = {1:'one', 2:'two', 3:'three'}\n",
    "callable(d)"
   ]
  },
  {
   "cell_type": "markdown",
   "metadata": {},
   "source": [
    "### Positional Arguments\n",
    "\n",
    "Extended formal argument sytax\n",
    "> def extended(\\*args, \\*\\*kwargs)\n",
    "\n",
    "formal arguments at the definition site"
   ]
  },
  {
   "cell_type": "code",
   "execution_count": 32,
   "metadata": {},
   "outputs": [
    {
     "name": "stdout",
     "output_type": "stream",
     "text": [
      "one\n",
      "one two\n"
     ]
    }
   ],
   "source": [
    "print(\"one\")\n",
    "print('one', 'two')\n"
   ]
  },
  {
   "cell_type": "code",
   "execution_count": 37,
   "metadata": {},
   "outputs": [
    {
     "name": "stdout",
     "output_type": "stream",
     "text": [
      "Help on built-in function print in module builtins:\n",
      "\n",
      "print(...)\n",
      "    print(value, ..., sep=' ', end='\\n', file=sys.stdout, flush=False)\n",
      "    \n",
      "    Prints the values to a stream, or to sys.stdout by default.\n",
      "    Optional keyword arguments:\n",
      "    file:  a file-like object (stream); defaults to the current sys.stdout.\n",
      "    sep:   string inserted between values, default a space.\n",
      "    end:   string appended after the last value, default a newline.\n",
      "    flush: whether to forcibly flush the stream.\n",
      "\n"
     ]
    }
   ],
   "source": [
    "help(print)\n"
   ]
  },
  {
   "cell_type": "code",
   "execution_count": 38,
   "metadata": {},
   "outputs": [
    {
     "data": {
      "text/plain": [
       "'ogden<==>Utah'"
      ]
     },
     "execution_count": 38,
     "metadata": {},
     "output_type": "execute_result"
    }
   ],
   "source": [
    "\"{a}<==>{b}\".format(a=\"ogden\", b=\"Utah\")"
   ]
  },
  {
   "cell_type": "code",
   "execution_count": 41,
   "metadata": {},
   "outputs": [
    {
     "name": "stdout",
     "output_type": "stream",
     "text": [
      "(2,)\n",
      "<class 'tuple'>\n",
      "(3, 4, 5)\n",
      "<class 'tuple'>\n",
      "()\n",
      "<class 'tuple'>\n"
     ]
    }
   ],
   "source": [
    "#define a functiuon to calculate \"hyper-volume\"\n",
    "def hypervolume(*args):\n",
    "    print(args)\n",
    "    print(type(args))\n",
    "    \n",
    "# Test it\n",
    "hypervolume(2)\n",
    "hypervolume(3, 4, 5)\n",
    "hypervolume()"
   ]
  },
  {
   "cell_type": "code",
   "execution_count": 48,
   "metadata": {},
   "outputs": [
    {
     "name": "stdout",
     "output_type": "stream",
     "text": [
      "2\n",
      "24\n"
     ]
    }
   ],
   "source": [
    "#define a functiuon to calculate \"hyper-volume\"\n",
    "def hypervolume(*lengths):\n",
    "    i = iter(lengths)\n",
    "    v = next(i)\n",
    "    for length in i:\n",
    "        v *= length\n",
    "        \n",
    "    return v\n",
    "\n",
    "# test it\n",
    "print(hypervolume(2))\n",
    "print(hypervolume(2, 3, 4))\n",
    "# print(hypervolume()) will produce StopItteration error"
   ]
  },
  {
   "cell_type": "markdown",
   "metadata": {},
   "source": [
    "The **\\*args** syntax only collects **positional arguments**, and a complementary syntax is provided for handling **keyword arguments**"
   ]
  },
  {
   "cell_type": "code",
   "execution_count": 49,
   "metadata": {},
   "outputs": [
    {
     "name": "stdout",
     "output_type": "stream",
     "text": [
      "2\n",
      "6\n",
      "24\n"
     ]
    }
   ],
   "source": [
    "#define a functiuon to calculate \"hyper-volume\"\n",
    "def hypervolume(length, *lengths):\n",
    "    for item in lengths:\n",
    "        length *= item\n",
    "    return length\n",
    "\n",
    "# test it\n",
    "print(hypervolume(2))\n",
    "print(hypervolume(2, 3))\n",
    "print(hypervolume(2, 3, 4))"
   ]
  },
  {
   "cell_type": "markdown",
   "metadata": {},
   "source": [
    "### Keyword arguments \n",
    "Use the double asterisk \\*\\* by convention this argument is called **kwargs**, key word arguments, but this is not a keyword. "
   ]
  },
  {
   "cell_type": "code",
   "execution_count": 57,
   "metadata": {},
   "outputs": [
    {
     "name": "stdout",
     "output_type": "stream",
     "text": [
      "img\n",
      "{'src': 'monet.jpeg', 'alt': 'sunrise by Caude Monet', 'border': 1}\n",
      "<class 'dict'>\n"
     ]
    }
   ],
   "source": [
    "def tag(name, **kwargs):\n",
    "    print(name)\n",
    "    print(kwargs)\n",
    "    print(type(kwargs))\n",
    "    \n",
    "\n",
    "# Test it\n",
    "tag('img', src= 'monet.jpeg', alt= 'sunrise by Caude Monet', border= 1)"
   ]
  },
  {
   "cell_type": "code",
   "execution_count": 59,
   "metadata": {},
   "outputs": [
    {
     "ename": "TypeError",
     "evalue": "unsupported operand type(s) for |: 'str' and 'str'",
     "output_type": "error",
     "traceback": [
      "\u001b[1;31m---------------------------------------------------------------------------\u001b[0m",
      "\u001b[1;31mTypeError\u001b[0m                                 Traceback (most recent call last)",
      "\u001b[1;32m<ipython-input-59-799fa3c734da>\u001b[0m in \u001b[0;36m<module>\u001b[1;34m()\u001b[0m\n\u001b[0;32m      6\u001b[0m \u001b[1;33m\u001b[0m\u001b[0m\n\u001b[0;32m      7\u001b[0m \u001b[1;31m# Test it\u001b[0m\u001b[1;33m\u001b[0m\u001b[1;33m\u001b[0m\u001b[0m\n\u001b[1;32m----> 8\u001b[1;33m \u001b[0mprint\u001b[0m\u001b[1;33m(\u001b[0m\u001b[0mtag\u001b[0m\u001b[1;33m(\u001b[0m\u001b[1;34m'img'\u001b[0m\u001b[1;33m,\u001b[0m \u001b[0msrc\u001b[0m\u001b[1;33m=\u001b[0m \u001b[1;34m'monet.jpeg'\u001b[0m\u001b[1;33m,\u001b[0m \u001b[0malt\u001b[0m\u001b[1;33m=\u001b[0m \u001b[1;34m'sunrise by Caude Monet'\u001b[0m\u001b[1;33m,\u001b[0m \u001b[0mborder\u001b[0m\u001b[1;33m=\u001b[0m \u001b[1;36m1\u001b[0m\u001b[1;33m)\u001b[0m\u001b[1;33m)\u001b[0m\u001b[1;33m\u001b[0m\u001b[0m\n\u001b[0m",
      "\u001b[1;32m<ipython-input-59-799fa3c734da>\u001b[0m in \u001b[0;36mtag\u001b[1;34m(name, **attributes)\u001b[0m\n\u001b[0;32m      1\u001b[0m \u001b[1;32mdef\u001b[0m \u001b[0mtag\u001b[0m\u001b[1;33m(\u001b[0m\u001b[0mname\u001b[0m\u001b[1;33m,\u001b[0m \u001b[1;33m**\u001b[0m\u001b[0mattributes\u001b[0m\u001b[1;33m)\u001b[0m\u001b[1;33m:\u001b[0m\u001b[1;33m\u001b[0m\u001b[0m\n\u001b[1;32m----> 2\u001b[1;33m     \u001b[0mresult\u001b[0m \u001b[1;33m=\u001b[0m \u001b[1;34m\"<\"\u001b[0m \u001b[1;33m|\u001b[0m \u001b[0mname\u001b[0m\u001b[1;33m\u001b[0m\u001b[0m\n\u001b[0m\u001b[0;32m      3\u001b[0m     \u001b[1;32mfor\u001b[0m \u001b[0mk\u001b[0m\u001b[1;33m,\u001b[0m \u001b[0mv\u001b[0m \u001b[1;32min\u001b[0m \u001b[0mattributes\u001b[0m\u001b[1;33m.\u001b[0m\u001b[0mitems\u001b[0m\u001b[1;33m(\u001b[0m\u001b[1;33m)\u001b[0m\u001b[1;33m:\u001b[0m\u001b[1;33m\u001b[0m\u001b[0m\n\u001b[0;32m      4\u001b[0m         \u001b[0mresult\u001b[0m \u001b[1;33m+=\u001b[0m \u001b[1;34m' {key}=\"{value}\"'\u001b[0m\u001b[1;33m.\u001b[0m\u001b[0mformat\u001b[0m\u001b[1;33m(\u001b[0m\u001b[0mkey\u001b[0m\u001b[1;33m=\u001b[0m\u001b[0mk\u001b[0m\u001b[1;33m,\u001b[0m \u001b[0mvalue\u001b[0m\u001b[1;33m=\u001b[0m\u001b[0mv\u001b[0m\u001b[1;33m)\u001b[0m\u001b[1;33m\u001b[0m\u001b[0m\n\u001b[0;32m      5\u001b[0m     \u001b[0mresult\u001b[0m \u001b[1;33m+=\u001b[0m \u001b[1;34m\">\"\u001b[0m\u001b[1;33m\u001b[0m\u001b[0m\n",
      "\u001b[1;31mTypeError\u001b[0m: unsupported operand type(s) for |: 'str' and 'str'"
     ]
    }
   ],
   "source": [
    "def tag(name, **attributes):\n",
    "    result = \"<\" | name\n",
    "    for k, v in attributes.items():\n",
    "        result += ' {key}=\"{value}\"'.format(key=k, value=v)\n",
    "    result += \">\"\n",
    "    \n",
    "# Test it\n",
    "print(tag('img', src= 'monet.jpeg', alt= 'sunrise by Caude Monet', border= 1))"
   ]
  },
  {
   "cell_type": "markdown",
   "metadata": {},
   "source": [
    "### Resutls for poistional and keyword arguments\n",
    "\n",
    "> def print_args(arg1, arg2, \\*args, kwarg, \\*\\*kwargs)\n",
    "\n",
    "\\*\\*kwargs MUSt be tthe last argument, otherwise you get an error."
   ]
  },
  {
   "cell_type": "code",
   "execution_count": 64,
   "metadata": {},
   "outputs": [
    {
     "name": "stdout",
     "output_type": "stream",
     "text": [
      "1\n",
      "2\n",
      "(3, 4, 5)\n",
      "21\n",
      "22\n",
      "(23, 24, 25)\n"
     ]
    }
   ],
   "source": [
    "# OK\n",
    "def print_args(arg1, arg2, *args):\n",
    "    print(arg1)\n",
    "    print(arg2)    \n",
    "    print(args)\n",
    "    \n",
    "print_args(1, 2, 3, 4, 5)\n",
    "\n",
    "t = (21, 22, 23, 24, 25)\n",
    "print_args(*t)"
   ]
  },
  {
   "cell_type": "code",
   "execution_count": 61,
   "metadata": {},
   "outputs": [
    {
     "name": "stdout",
     "output_type": "stream",
     "text": [
      "1\n",
      "2\n",
      "(3, 4, 5)\n",
      "11\n",
      "12\n"
     ]
    }
   ],
   "source": [
    "# OK\n",
    "def print_args(arg1, arg2, *args, kwarg1, kwarg2):\n",
    "    print(arg1)\n",
    "    print(arg2)    \n",
    "    print(args)\n",
    "    print(kwarg1)\n",
    "    print(kwarg2)\n",
    "    \n",
    "print_args(1, 2, 3, 4, 5, kwarg1=11, kwarg2 = 12)"
   ]
  },
  {
   "cell_type": "code",
   "execution_count": 66,
   "metadata": {},
   "outputs": [
    {
     "name": "stdout",
     "output_type": "stream",
     "text": [
      "r=  21\n",
      "g=  68\n",
      "b=  120\n",
      "{'alpha': 52, 'beta': 33}\n"
     ]
    },
    {
     "ename": "TypeError",
     "evalue": "color() missing 1 required positional argument: 'red'",
     "output_type": "error",
     "traceback": [
      "\u001b[1;31m---------------------------------------------------------------------------\u001b[0m",
      "\u001b[1;31mTypeError\u001b[0m                                 Traceback (most recent call last)",
      "\u001b[1;32m<ipython-input-66-4a21587f6941>\u001b[0m in \u001b[0;36m<module>\u001b[1;34m()\u001b[0m\n\u001b[0;32m     12\u001b[0m \u001b[1;31m# test it\u001b[0m\u001b[1;33m\u001b[0m\u001b[1;33m\u001b[0m\u001b[0m\n\u001b[0;32m     13\u001b[0m \u001b[0mbreakk\u001b[0m \u001b[1;33m=\u001b[0m \u001b[1;33m{\u001b[0m\u001b[1;34m'green'\u001b[0m\u001b[1;33m:\u001b[0m\u001b[1;36m68\u001b[0m\u001b[1;33m,\u001b[0m \u001b[1;34m'blue'\u001b[0m\u001b[1;33m:\u001b[0m\u001b[1;36m120\u001b[0m\u001b[1;33m,\u001b[0m \u001b[1;34m'alpha'\u001b[0m\u001b[1;33m:\u001b[0m\u001b[1;36m52\u001b[0m\u001b[1;33m,\u001b[0m \u001b[1;34m'beta'\u001b[0m\u001b[1;33m:\u001b[0m\u001b[1;36m33\u001b[0m\u001b[1;33m}\u001b[0m\u001b[1;33m\u001b[0m\u001b[0m\n\u001b[1;32m---> 14\u001b[1;33m \u001b[0mcolor\u001b[0m\u001b[1;33m(\u001b[0m\u001b[1;33m**\u001b[0m\u001b[0mbreakk\u001b[0m\u001b[1;33m)\u001b[0m\u001b[1;33m\u001b[0m\u001b[0m\n\u001b[0m",
      "\u001b[1;31mTypeError\u001b[0m: color() missing 1 required positional argument: 'red'"
     ]
    }
   ],
   "source": [
    "def color(red, green, blue, **kwargs):\n",
    "    print('r= ', red)\n",
    "    print('g= ', green)\n",
    "    print('b= ', blue)\n",
    "    print(kwargs)\n",
    "    \n",
    "# test it\n",
    "k = {'red':21, 'green':68, 'blue':120, 'alpha':52, 'beta':33}\n",
    "color(**k)\n",
    "\n",
    "# break it\n",
    "# test it\n",
    "breakk = {'green':68, 'blue':120, 'alpha':52, 'beta':33}\n",
    "color(**breakk)"
   ]
  },
  {
   "cell_type": "markdown",
   "metadata": {},
   "source": [
    "## Forwarding Arguments\n",
    "One of the most common uses of \\*args and \\*\\*kwargs is to pass the paramters from a function to another function"
   ]
  },
  {
   "cell_type": "code",
   "execution_count": 68,
   "metadata": {},
   "outputs": [
    {
     "name": "stdout",
     "output_type": "stream",
     "text": [
      "args =  ('ff',)\n",
      "kwargs =  {'base': 16}\n",
      "result =  255\n",
      "255\n"
     ]
    }
   ],
   "source": [
    "def trace(f, *args, **kwargs):\n",
    "    print('args = ', args)\n",
    "    print('kwargs = ', kwargs)\n",
    "    result = f(*args, **kwargs)\n",
    "    print('result = ', result)\n",
    "    return result\n",
    "\n",
    "# test it\n",
    "print(trace(int, \"ff\", base=16))\n"
   ]
  },
  {
   "cell_type": "code",
   "execution_count": 69,
   "metadata": {},
   "outputs": [
    {
     "data": {
      "text/plain": [
       "255"
      ]
     },
     "execution_count": 69,
     "metadata": {},
     "output_type": "execute_result"
    }
   ],
   "source": [
    "int(\"ff\", base=16)"
   ]
  },
  {
   "cell_type": "code",
   "execution_count": 70,
   "metadata": {},
   "outputs": [
    {
     "name": "stdout",
     "output_type": "stream",
     "text": [
      "(12, 10)\n",
      "(12, 10)\n",
      "(13, 11)\n",
      "(13, 11)\n",
      "(14, 12)\n",
      "(14, 12)\n",
      "(15, 11)\n",
      "(12, 10)\n",
      "(10, 9)\n"
     ]
    }
   ],
   "source": [
    "# help(zip)\n",
    "def test_tables():\n",
    "    sunday= [12, 12, 13, 13, 14, 14, 15, 14, 12, 10]\n",
    "    monday= [10, 10, 11, 11, 12, 12, 11, 10, 10, 9]\n",
    "    tuesday=[14, 14, 15, 16, 17, 18, 18, 17, 16, 15]\n",
    "    \n",
    "    #iterate over both with zip\n",
    "    for item in zip(sunday, monday):\n",
    "        print(item)\n",
    "        \n",
    "test_tables()"
   ]
  },
  {
   "cell_type": "code",
   "execution_count": 72,
   "metadata": {},
   "outputs": [
    {
     "name": "stdout",
     "output_type": "stream",
     "text": [
      "[[12, 12, 13, 13, 14, 14, 15, 14, 12, 10],\n",
      " [10, 10, 11, 11, 12, 12, 11, 10, 10, 9],\n",
      " [14, 14, 15, 16, 17, 18, 18, 17, 16, 15]]\n",
      "(12, 10, 14)\n",
      "(12, 10, 14)\n",
      "(13, 11, 15)\n",
      "(13, 11, 16)\n",
      "(14, 12, 17)\n",
      "(14, 12, 18)\n",
      "(15, 11, 18)\n",
      "(14, 10, 17)\n",
      "(12, 10, 16)\n",
      "(10, 9, 15)\n"
     ]
    }
   ],
   "source": [
    "from pprint import pprint as pp\n",
    "\n",
    "sunday= [12, 12, 13, 13, 14, 14, 15, 14, 12, 10]\n",
    "monday= [10, 10, 11, 11, 12, 12, 11, 10, 10, 9]\n",
    "tuesday=[14, 14, 15, 16, 17, 18, 18, 17, 16, 15]\n",
    "\n",
    "\n",
    "daily = [sunday, monday, tuesday]\n",
    "pp(daily)\n",
    "# for item in zip(sunday, monday, tuesday):\n",
    "#     print(item)\n",
    "\n",
    "for item in zip(*daily):\n",
    "    print(item)"
   ]
  },
  {
   "cell_type": "code",
   "execution_count": 74,
   "metadata": {},
   "outputs": [
    {
     "name": "stdout",
     "output_type": "stream",
     "text": [
      "[[12, 12, 13, 13, 14, 14, 15, 14, 12, 10],\n",
      " [10, 10, 11, 11, 12, 12, 11, 10, 10, 9],\n",
      " [14, 14, 15, 16, 17, 18, 18, 17, 16, 15]]\n",
      "[(12, 10, 14),\n",
      " (12, 10, 14),\n",
      " (13, 11, 15),\n",
      " (13, 11, 16),\n",
      " (14, 12, 17),\n",
      " (14, 12, 18),\n",
      " (15, 11, 18),\n",
      " (14, 10, 17),\n",
      " (12, 10, 16),\n",
      " (10, 9, 15)]\n"
     ]
    }
   ],
   "source": [
    "from pprint import pprint as pp\n",
    "\n",
    "sunday= [12, 12, 13, 13, 14, 14, 15, 14, 12, 10]\n",
    "monday= [10, 10, 11, 11, 12, 12, 11, 10, 10, 9]\n",
    "tuesday=[14, 14, 15, 16, 17, 18, 18, 17, 16, 15]\n",
    "\n",
    "\n",
    "daily = [sunday, monday, tuesday]\n",
    "pp(daily)\n",
    "\n",
    "\n",
    "trasposed = list(zip(*daily))\n",
    "pp (trasposed)"
   ]
  },
  {
   "cell_type": "code",
   "execution_count": null,
   "metadata": {
    "collapsed": true
   },
   "outputs": [],
   "source": []
  }
 ],
 "metadata": {
  "kernelspec": {
   "display_name": "Python 3",
   "language": "python",
   "name": "python3"
  },
  "language_info": {
   "codemirror_mode": {
    "name": "ipython",
    "version": 3
   },
   "file_extension": ".py",
   "mimetype": "text/x-python",
   "name": "python",
   "nbconvert_exporter": "python",
   "pygments_lexer": "ipython3",
   "version": "3.6.3"
  }
 },
 "nbformat": 4,
 "nbformat_minor": 1
}
