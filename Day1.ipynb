{
 "cells": [
  {
   "cell_type": "markdown",
   "metadata": {},
   "source": [
    "# Introduction\n",
    "## Tools:\n",
    "* Python 3\n",
    "* Anaconda\n",
    "* Pycharms\n",
    "\n",
    "## Websites:\n",
    "* Python.org\n",
    "* github.com\n",
    "* Jupyter\n",
    "* Pycharms"
   ]
  },
  {
   "cell_type": "markdown",
   "metadata": {},
   "source": [
    "## Markdown\n",
    "* .md file\n",
    "* [link] (https://en.wikipedia.org/wiki/Markdown)\n",
    "\n",
    "## Jupyter Notebook shortcuts\n",
    "* Esc to exit input mode (blue)\n",
    "* Enter to enter input mode (breen)\n",
    "* y -> Python\n",
    "* m -> Markdown\n",
    "* Shift-Enter -> run cell and add cell\n",
    "* Ctrl-Enter -> run cell \n"
   ]
  },
  {
   "cell_type": "code",
   "execution_count": 2,
   "metadata": {},
   "outputs": [],
   "source": [
    "print(\"Hello Jypter\")"
   ]
  },
  {
   "cell_type": "markdown",
   "metadata": {},
   "source": [
    "# Intermediate python\n",
    "\n",
    "## Prerequisites:\n",
    "\n",
    "* Access the REPL\n",
    "* Define functions, pass information to parameters\n",
    "* Working with single modules, importing modules\n",
    "* Built-In Types:\n",
    " * int\n",
    " * float\n",
    " * str\n",
    " * list\n",
    " * dict\n",
    " * set\n",
    "* How the basic Python object model works for defined classes \n",
    "* Basics of raising and handling errors: Try, Except, finally\n",
    "* Basics of **iterables** and **iterators**,\n",
    " * For loops\n",
    " * while loops\n",
    " * next\n",
    " * iter\n",
    "* Reading and writing thext and binary files:\n",
    " * open\n",
    " * close \n",
    " * **with**\n",
    "* Special terminology:\n",
    " * \"dunder\" means \\_\\_\n",
    " * \\_\\_method\\_\\_\n",
    " \n",
    " \n",
    "See **review_classes.py**"
   ]
  },
  {
   "cell_type": "markdown",
   "metadata": {},
   "source": [
    "# Organizing Larger Programs\n",
    "### Packages\n",
    "The module is the basic tool to organize your code in Python.\n",
    "After you import it, it is represented as a **class module**.\n",
    "\n",
    "A **package** in Python is just a special type of module\n"
   ]
  },
  {
   "cell_type": "code",
   "execution_count": 3,
   "metadata": {
    "collapsed": true
   },
   "outputs": [],
   "source": [
    "# Examples\n",
    "import urllib\n",
    "import urllib.request"
   ]
  },
  {
   "cell_type": "code",
   "execution_count": 4,
   "metadata": {},
   "outputs": [],
   "source": [
    "print(type(urllib))\n",
    "print(type(urllib.request))"
   ]
  },
  {
   "cell_type": "code",
   "execution_count": 5,
   "metadata": {},
   "outputs": [],
   "source": [
    "# Where are you?\n",
    "print(urllib.__path__)"
   ]
  },
  {
   "cell_type": "code",
   "execution_count": 6,
   "metadata": {},
   "outputs": [],
   "source": [
    "# Where are you?\n",
    "print(urllib.request.__path__)"
   ]
  },
  {
   "cell_type": "markdown",
   "metadata": {},
   "source": [
    "Packages are generally represented by directories while **modules** are single files"
   ]
  },
  {
   "cell_type": "code",
   "execution_count": 8,
   "metadata": {},
   "outputs": [],
   "source": [
    "# sys path\n",
    "import sys \n",
    "print(sys.path)\n",
    "\n",
    "# note running the same lines in pycharms has a different list because it is a different python installation"
   ]
  },
  {
   "cell_type": "code",
   "execution_count": 10,
   "metadata": {},
   "outputs": [],
   "source": [
    "print(sys.path[1])\n",
    "print(sys.path[-1])"
   ]
  },
  {
   "cell_type": "markdown",
   "metadata": {},
   "source": [
    "Note: See not_searched package in pycharms"
   ]
  },
  {
   "cell_type": "markdown",
   "metadata": {},
   "source": [
    "#### PYTHONPATH\n",
    "If you need to aler your **PYTHONPATH** variable use these commands:\n",
    "\n",
    "  * Windows: \n",
    "    * has a ; sperated field.\n",
    "    * set the Environment: **set-Item Env:PYTHONPATH \"not_searched\"**.\n",
    "      * Doesn't work in Pycharm, use powershell\n",
    "    * Only good for one session, willl be reset when you close the terminal/session.\n",
    "    * some people have a bash script to setup the environment for the job.\n",
    " \n",
    " \n",
    "  * Linux/OSX: \n",
    "    * has a : sperated field.\n",
    "    * Use the **set** command to set the environment."
   ]
  },
  {
   "cell_type": "markdown",
   "metadata": {},
   "source": [
    "## Implementing Packages\n",
    "\n",
    "The **\\_\\_ init\\_\\_.py** file is what makes a package a module.\n",
    "\n",
    "Note: See reader package\n",
    "\n",
    "The **\\_\\_ init\\_\\_.py** file can be blank and python will still recognize the directory."
   ]
  },
  {
   "cell_type": "markdown",
   "metadata": {},
   "source": [
    "to open files in a windows environment (absolute path) either use r' ' for raw or escape the backslashes"
   ]
  },
  {
   "cell_type": "code",
   "execution_count": 13,
   "metadata": {},
   "outputs": [],
   "source": [
    "i = 'C:\\\\Users\\\\CCEClass1\\\\Documents\\\\merlynhall\\\\IntermediatePython\\\\reader\\\\reader.py'\n",
    "print(i)\n",
    "\n",
    "# raw strings\n",
    "r = r'C:\\Users\\CCEClass1\\Documents\\merlynhall\\IntermediatePython\\reader\\reader.py'\n",
    "print(r)"
   ]
  },
  {
   "cell_type": "markdown",
   "metadata": {},
   "source": [
    "Create dummy files in the terminal\n",
    "\n",
    "python .\\reader\\compressed\\bzipped.py test.bz2 compressed with bz2\n",
    "\n",
    "python .\\reader\\compressed\\gzipped.py test.gzip compressed with bz2\n"
   ]
  },
  {
   "cell_type": "markdown",
   "metadata": {},
   "source": [
    "## Absolute & Relative Imports\n",
    "\n",
    "Everything we have so far are **absolute imports**. \n",
    "\n",
    "**Relative Imports** are only recommended if you're working on the same package.\n",
    "\n",
    "* Use one **.** dot for present working dir\n",
    "* Use two **..** dots for parent dir\n",
    "\n",
    "\n",
    "* from **.** import common\n",
    "* from **..** import common\n",
    "\n",
    "Pros: \n",
    "1. Can reduce typing in deeply nested package structures\n",
    "2. Promote certain forms of modifiability \n",
    "3. Can aid package renaming and refactoring\n",
    "4. General advice is to avoid on most cases"
   ]
  },
  {
   "cell_type": "markdown",
   "metadata": {},
   "source": [
    "### Pracitce\n",
    "**Farm** package\n",
    "* __init__.py\n",
    "* bird/\n",
    " * __init__py\n",
    " * chicken.py\n",
    " * turkey.py\n",
    "* bovine/\n",
    " * __init__.py\n",
    " * cow.py\n",
    " * ox.py\n",
    " * common.py"
   ]
  },
  {
   "cell_type": "markdown",
   "metadata": {},
   "source": [
    "## Controlling imports with \\_\\_all\\_\\_"
   ]
  },
  {
   "cell_type": "markdown",
   "metadata": {},
   "source": [
    "If \\_\\_all\\_\\_ is not specified, then all the public names will be imported to the session."
   ]
  },
  {
   "cell_type": "markdown",
   "metadata": {},
   "source": [
    "## Namespace Packages\n",
    "Some special cases, you may want to spread your package across multiple directories which would be useful when you want to split large packages into multiple parts\n",
    "\n",
    "Note: **PEP 420**\n",
    "\n",
    "### How does Python find namepsace packages?\n",
    "Python follows a realative easy algorithm to determine the namespaces\n",
    "1. Python scans all entries in sys.path\n",
    "2. If a matching directory with \\_\\_init\\_\\_ if found, a normal package is loaded.\n",
    "3. If \"**foo.py**\" is found, then it is loaded\n",
    "4. Otherwise all matching directories in sys.path are considered part of the namespace package"
   ]
  },
  {
   "cell_type": "markdown",
   "metadata": {},
   "source": [
    "## Executable directories\n",
    "Directories containing an entry point for Python execution\n",
    "\n",
    "Pakcages are ussually developed because there is a progrm you want to use."
   ]
  },
  {
   "cell_type": "code",
   "execution_count": null,
   "metadata": {
    "collapsed": true
   },
   "outputs": [],
   "source": [
    ""
   ]
  }
 ],
 "metadata": {
  "kernelspec": {
   "display_name": "Python 3",
   "language": "python",
   "name": "python3"
  },
  "language_info": {
   "codemirror_mode": {
    "name": "ipython",
    "version": 3.0
   },
   "file_extension": ".py",
   "mimetype": "text/x-python",
   "name": "python",
   "nbconvert_exporter": "python",
   "pygments_lexer": "ipython3",
   "version": "3.6.3"
  }
 },
 "nbformat": 4,
 "nbformat_minor": 0
}