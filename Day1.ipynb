{
 "cells": [
  {
   "cell_type": "markdown",
   "metadata": {},
   "source": [
    "# Introduction\n",
    "## Tools:\n",
    "* Python 3\n",
    "* Anaconda\n",
    "* Pycharms\n",
    "\n",
    "## Websites:\n",
    "* Python.org\n",
    "* github.com\n",
    "* Jupyter\n",
    "* Pycharms"
   ]
  },
  {
   "cell_type": "markdown",
   "metadata": {},
   "source": [
    "## Markdown\n",
    "* .md file\n",
    "* [link] (https://en.wikipedia.org/wiki/Markdown)\n",
    "\n",
    "## Jupyter Notebook shortcuts\n",
    "* Esc to exit input mode (blue)\n",
    "* Enter to enter input mode (breen)\n",
    "* y -> Python\n",
    "* m -> Markdown\n",
    "* Shift-Enter -> run cell and add cell\n",
    "* Ctrl-Enter -> run cell \n"
   ]
  },
  {
   "cell_type": "code",
   "execution_count": 2,
   "metadata": {},
   "outputs": [
    {
     "name": "stdout",
     "output_type": "stream",
     "text": [
      "Hello Jypter\n"
     ]
    }
   ],
   "source": [
    "print(\"Hello Jypter\")"
   ]
  },
  {
   "cell_type": "markdown",
   "metadata": {},
   "source": [
    "# Intermediate python\n",
    "\n",
    "## Prerequisites:\n",
    "\n",
    "* Access the REPL\n",
    "* Define functions, pass information to parameters\n",
    "* Working with single modules, importing modules\n",
    "* Built-In Types:\n",
    " * int\n",
    " * float\n",
    " * str\n",
    " * list\n",
    " * dict\n",
    " * set\n",
    "* How the basic Python object model works for defined classes \n",
    "* Basics of raising and handling errors: Try, Except, finally\n",
    "* Basics of **iterables** and **iterators**,\n",
    " * For loops\n",
    " * while loops\n",
    " * next\n",
    " * iter\n",
    "* Reading and writing thext and binary files:\n",
    " * open\n",
    " * close \n",
    " * **with**\n",
    "* Special terminology:\n",
    " * \"dunder\" means \\_\\_\n",
    " * \\_\\_method\\_\\_\n",
    " \n",
    " \n",
    "See **review_classes.py**"
   ]
  },
  {
   "cell_type": "code",
   "execution_count": null,
   "metadata": {
    "collapsed": true
   },
   "outputs": [],
   "source": []
  }
 ],
 "metadata": {
  "kernelspec": {
   "display_name": "Python 3",
   "language": "python",
   "name": "python3"
  },
  "language_info": {
   "codemirror_mode": {
    "name": "ipython",
    "version": 3
   },
   "file_extension": ".py",
   "mimetype": "text/x-python",
   "name": "python",
   "nbconvert_exporter": "python",
   "pygments_lexer": "ipython3",
   "version": "3.6.3"
  }
 },
 "nbformat": 4,
 "nbformat_minor": 2
}
