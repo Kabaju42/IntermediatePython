{
 "cells": [
  {
   "cell_type": "markdown",
   "metadata": {},
   "source": [
    "# Introduction\n",
    "## Tools:\n",
    "* Python 3\n",
    "* Anaconda\n",
    "* Pycharms\n",
    "\n",
    "## Websites:\n",
    "* Python.org\n",
    "* github.com\n",
    "* Jupyter\n",
    "* Pycharms"
   ]
  },
  {
   "cell_type": "markdown",
   "metadata": {},
   "source": [
    "## Markdown\n",
    "* .md file\n",
    "* [link] (https://en.wikipedia.org/wiki/Markdown)\n",
    "\n",
    "## Jupyter Notebook shortcuts\n",
    "* Esc to exit input mode (blue)\n",
    "* Enter to enter input mode (breen)\n",
    "* y -> Python\n",
    "* m -> Markdown\n",
    "* Shift-Enter -> run cell and add cell\n",
    "* Ctrl-Enter -> run cell \n"
   ]
  },
  {
   "cell_type": "code",
   "execution_count": 2,
   "metadata": {
    "collapsed": true
   },
   "outputs": [],
   "source": [
    "print(\"Hello Jypter\")"
   ]
  },
  {
   "cell_type": "markdown",
   "metadata": {},
   "source": [
    "# Intermediate python\n",
    "\n",
    "## Prerequisites:\n",
    "\n",
    "* Access the REPL\n",
    "* Define functions, pass information to parameters\n",
    "* Working with single modules, importing modules\n",
    "* Built-In Types:\n",
    " * int\n",
    " * float\n",
    " * str\n",
    " * list\n",
    " * dict\n",
    " * set\n",
    "* How the basic Python object model works for defined classes \n",
    "* Basics of raising and handling errors: Try, Except, finally\n",
    "* Basics of **iterables** and **iterators**,\n",
    " * For loops\n",
    " * while loops\n",
    " * next\n",
    " * iter\n",
    "* Reading and writing thext and binary files:\n",
    " * open\n",
    " * close \n",
    " * **with**\n",
    "* Special terminology:\n",
    " * \"dunder\" means \\_\\_\n",
    " * \\_\\_method\\_\\_\n",
    " \n",
    " \n",
    "See **review_classes.py**"
   ]
  },
  {
   "cell_type": "markdown",
   "metadata": {},
   "source": [
    "# Organizing Larger Programs\n",
    "### Packages\n",
    "The module is the basic tool to organize your code in Python.\n",
    "After you import it, it is represented as a **class module**.\n",
    "\n",
    "A **package** in Python is just a special type of module\n"
   ]
  },
  {
   "cell_type": "code",
   "execution_count": 3,
   "metadata": {
    "collapsed": true
   },
   "outputs": [],
   "source": [
    "# Examples\n",
    "import urllib\n",
    "import urllib.request"
   ]
  },
  {
   "cell_type": "code",
   "execution_count": 4,
   "metadata": {
    "collapsed": true
   },
   "outputs": [],
   "source": [
    "print(type(urllib))\n",
    "print(type(urllib.request))"
   ]
  },
  {
   "cell_type": "code",
   "execution_count": 5,
   "metadata": {
    "collapsed": true
   },
   "outputs": [],
   "source": [
    "# Where are you?\n",
    "print(urllib.__path__)"
   ]
  },
  {
   "cell_type": "code",
   "execution_count": 6,
   "metadata": {
    "collapsed": true
   },
   "outputs": [],
   "source": [
    "# Where are you?\n",
    "print(urllib.request.__path__)"
   ]
  },
  {
   "cell_type": "markdown",
   "metadata": {},
   "source": [
    "Packages are generally represented by directories while **modules** are single files"
   ]
  },
  {
   "cell_type": "code",
   "execution_count": 8,
   "metadata": {
    "collapsed": true
   },
   "outputs": [],
   "source": [
    "# sys path\n",
    "import sys \n",
    "print(sys.path)\n",
    "\n",
    "# note running the same lines in pycharms has a different list because it is a different python installation"
   ]
  },
  {
   "cell_type": "code",
   "execution_count": 10,
   "metadata": {
    "collapsed": true
   },
   "outputs": [],
   "source": [
    "print(sys.path[1])\n",
    "print(sys.path[-1])"
   ]
  },
  {
   "cell_type": "markdown",
   "metadata": {},
   "source": [
    "Note: See not_searched package in pycharms"
   ]
  },
  {
   "cell_type": "markdown",
   "metadata": {},
   "source": [
    "#### PYTHONPATH\n",
    "If you need to aler your **PYTHONPATH** variable use these commands:\n",
    "\n",
    "  * Windows: \n",
    "    * has a ; sperated field.\n",
    "    * set the Environment: **set-Item Env:PYTHONPATH \"not_searched\"**.\n",
    "      * Doesn't work in Pycharm, use powershell\n",
    "    * Only good for one session, willl be reset when you close the terminal/session.\n",
    "    * some people have a bash script to setup the environment for the job.\n",
    " \n",
    " \n",
    "  * Linux/OSX: \n",
    "    * has a : sperated field.\n",
    "    * Use the **set** command to set the environment."
   ]
  },
  {
   "cell_type": "markdown",
   "metadata": {},
   "source": [
    "## Implementing Packages\n",
    "\n",
    "The **\\_\\_ init\\_\\_.py** file is what makes a package a module.\n",
    "\n",
    "Note: See reader package\n",
    "\n",
    "The **\\_\\_ init\\_\\_.py** file can be blank and python will still recognize the directory."
   ]
  },
  {
   "cell_type": "markdown",
   "metadata": {},
   "source": [
    "to open files in a windows environment (absolute path) either use r' ' for raw or escape the backslashes"
   ]
  },
  {
   "cell_type": "code",
   "execution_count": 13,
   "metadata": {
    "collapsed": true
   },
   "outputs": [],
   "source": [
    "i = 'C:\\\\Users\\\\CCEClass1\\\\Documents\\\\merlynhall\\\\IntermediatePython\\\\reader\\\\reader.py'\n",
    "print(i)\n",
    "\n",
    "# raw strings\n",
    "r = r'C:\\Users\\CCEClass1\\Documents\\merlynhall\\IntermediatePython\\reader\\reader.py'\n",
    "print(r)"
   ]
  },
  {
   "cell_type": "markdown",
   "metadata": {},
   "source": [
    "Create dummy files in the terminal\n",
    "\n",
    "python .\\reader\\compressed\\bzipped.py test.bz2 compressed with bz2\n",
    "\n",
    "python .\\reader\\compressed\\gzipped.py test.gzip compressed with bz2\n"
   ]
  },
  {
   "cell_type": "markdown",
   "metadata": {},
   "source": [
    "## Absolute & Relative Imports\n",
    "\n",
    "Everything we have so far are **absolute imports**. \n",
    "\n",
    "**Relative Imports** are only recommended if you're working on the same package.\n",
    "\n",
    "* Use one **.** dot for present working dir\n",
    "* Use two **..** dots for parent dir\n",
    "\n",
    "\n",
    "* from **.** import common\n",
    "* from **..** import common\n",
    "\n",
    "Pros: \n",
    "1. Can reduce typing in deeply nested package structures\n",
    "2. Promote certain forms of modifiability \n",
    "3. Can aid package renaming and refactoring\n",
    "4. General advice is to avoid on most cases"
   ]
  },
  {
   "cell_type": "markdown",
   "metadata": {},
   "source": [
    "### Pracitce\n",
    "**Farm** package\n",
    "* __init__.py\n",
    "* bird/\n",
    " * __init__py\n",
    " * chicken.py\n",
    " * turkey.py\n",
    "* bovine/\n",
    " * __init__.py\n",
    " * cow.py\n",
    " * ox.py\n",
    " * common.py"
   ]
  },
  {
   "cell_type": "markdown",
   "metadata": {},
   "source": [
    "## Controlling imports with \\_\\_all\\_\\_"
   ]
  },
  {
   "cell_type": "markdown",
   "metadata": {},
   "source": [
    "If \\_\\_all\\_\\_ is not specified, then all the public names will be imported to the session."
   ]
  },
  {
   "cell_type": "markdown",
   "metadata": {},
   "source": [
    "## Namespace Packages\n",
    "Some special cases, you may want to spread your package across multiple directories which would be useful when you want to split large packages into multiple parts\n",
    "\n",
    "Note: **PEP 420**\n",
    "\n",
    "### How does Python find namepsace packages?\n",
    "Python follows a realative easy algorithm to determine the namespaces\n",
    "1. Python scans all entries in sys.path\n",
    "2. If a matching directory with \\_\\_init\\_\\_ if found, a normal package is loaded.\n",
    "3. If \"**foo.py**\" is found, then it is loaded\n",
    "4. Otherwise all matching directories in sys.path are considered part of the namespace package"
   ]
  },
  {
   "cell_type": "markdown",
   "metadata": {},
   "source": [
    "## Executable directories\n",
    "Directories containing an entry point for Python execution\n",
    "\n",
    "Pakcages are ussually developed because there is a progrm you want to use."
   ]
  },
  {
   "cell_type": "markdown",
   "metadata": {
    "collapsed": true
   },
   "source": [
    "## Recommended Project Layout\n",
    "\n",
    "* Project_Name\n",
    "  * \\_\\_main\\_\\_.py\n",
    "    * project_name\n",
    "      * \\_\\_init\\_\\_.py\n",
    "      * more_source.py\n",
    "      * subpackage\n",
    "        * \\_\\_init\\_\\_.py\n",
    "        * more_source.py\n",
    "      * test\n",
    "        * \\_\\_init\\_\\_.py\n",
    "        * test_code.py\n",
    "  * setup.py"
   ]
  },
  {
   "cell_type": "markdown",
   "metadata": {
    "collapsed": true
   },
   "source": [
    "Modules:\n",
    "* Modules can be executed py passing them to python with the **-m** argument\n",
    "* \\_\\_all\\_\\_ attribute of a module is a list of strings specifying the names of the export when **from module** is import * is used"
   ]
  },
  {
   "cell_type": "markdown",
   "metadata": {},
   "source": [
    "# Andvanced Functions\n",
    "The first parameter for an instance method is **self**\n",
    "\n",
    "Function arguments come in two flavors:\n",
    "* positional\n",
    "* key word\n",
    "\n",
    "A particular argument may be passed as a positional argument in one call, but it is a keyword argument in another\n",
    "\n",
    "Python functions are **first class** objects\n",
    "\n",
    "The **def** keyword is repsonsible for binding a function object, which contains a function definition to a function name"
   ]
  },
  {
   "cell_type": "code",
   "execution_count": 2,
   "metadata": {},
   "outputs": [
    {
     "name": "stdout",
     "output_type": "stream",
     "text": [
      "Function Body\n"
     ]
    },
    {
     "data": {
      "text/plain": [
       "8.0"
      ]
     },
     "execution_count": 2,
     "metadata": {},
     "output_type": "execute_result"
    }
   ],
   "source": [
    "# Two required arguments\n",
    "# One optional\n",
    "def function_name(arg1, arg2, arg3 = 1.0):\n",
    "    \"\"\"Function docstrings\"\"\"\n",
    "    print(\"Function Body\")\n",
    "    return  (arg1 + arg2)/arg3\n",
    "\n",
    "# Call it\n",
    "function_name(3, 5)"
   ]
  },
  {
   "cell_type": "code",
   "execution_count": 3,
   "metadata": {},
   "outputs": [
    {
     "name": "stdout",
     "output_type": "stream",
     "text": [
      "Function Body\n"
     ]
    },
    {
     "data": {
      "text/plain": [
       "0.20588235294117646"
      ]
     },
     "execution_count": 3,
     "metadata": {},
     "output_type": "execute_result"
    }
   ],
   "source": [
    "function_name(3, arg2=4, arg3 = 34)"
   ]
  },
  {
   "cell_type": "code",
   "execution_count": 5,
   "metadata": {},
   "outputs": [
    {
     "name": "stdout",
     "output_type": "stream",
     "text": [
      "Function Body\n"
     ]
    },
    {
     "data": {
      "text/plain": [
       "4.8"
      ]
     },
     "execution_count": 5,
     "metadata": {},
     "output_type": "execute_result"
    }
   ],
   "source": [
    "function_name(arg3 = 2.5, arg1 = 3, arg2 = 9)"
   ]
  },
  {
   "cell_type": "code",
   "execution_count": 6,
   "metadata": {},
   "outputs": [
    {
     "name": "stdout",
     "output_type": "stream",
     "text": [
      "<function resolve at 0x00000265D4BDDC80>\n"
     ]
    },
    {
     "data": {
      "text/plain": [
       "'137.190.8.10'"
      ]
     },
     "execution_count": 6,
     "metadata": {},
     "output_type": "execute_result"
    }
   ],
   "source": [
    "# Another example\n",
    "import socket\n",
    "def resolve(host):\n",
    "    return socket.gethostbyname(host)\n",
    "\n",
    "print(resolve)\n",
    "\n",
    "resolve('weber.edu')"
   ]
  },
  {
   "cell_type": "code",
   "execution_count": 7,
   "metadata": {},
   "outputs": [
    {
     "data": {
      "text/plain": [
       "'216.58.216.46'"
      ]
     },
     "execution_count": 7,
     "metadata": {},
     "output_type": "execute_result"
    }
   ],
   "source": [
    "resolve('google.com')"
   ]
  },
  {
   "cell_type": "markdown",
   "metadata": {},
   "source": [
    "Function objects are callable objects in so far as we can call them"
   ]
  },
  {
   "cell_type": "markdown",
   "metadata": {},
   "source": [
    "## Callable instances\n",
    "Use the \\_\\_call\\_\\_() special method. It allows objects of our own design to be callable."
   ]
  },
  {
   "cell_type": "code",
   "execution_count": 14,
   "metadata": {
    "collapsed": true
   },
   "outputs": [],
   "source": [
    "import socket\n",
    "\n",
    "class Resolver:\n",
    "    def __init__(self):\n",
    "        self._cache = {}\n",
    "        \n",
    "    def __call__(self, host):\n",
    "        # make the instance callable - ie a function\n",
    "        if host not in self._cache:\n",
    "            self._cache[host] = socket.gethostbyname(host)\n",
    "        return self._cache\n",
    "    def clear(self):\n",
    "        self._cache.clear()\n",
    "        \n",
    "    def has_host(self, host):\n",
    "        return host in self._cache\n",
    "        \n",
    "        "
   ]
  },
  {
   "cell_type": "code",
   "execution_count": 15,
   "metadata": {},
   "outputs": [
    {
     "data": {
      "text/plain": [
       "{'weber.edu': '137.190.8.10'}"
      ]
     },
     "execution_count": 15,
     "metadata": {},
     "output_type": "execute_result"
    }
   ],
   "source": [
    "r = Resolver()\n",
    "r(\"weber.edu\")"
   ]
  },
  {
   "cell_type": "code",
   "execution_count": 16,
   "metadata": {},
   "outputs": [
    {
     "data": {
      "text/plain": [
       "{'kabaju.net': '166.70.198.171', 'weber.edu': '137.190.8.10'}"
      ]
     },
     "execution_count": 16,
     "metadata": {},
     "output_type": "execute_result"
    }
   ],
   "source": [
    "r(\"kabaju.net\")"
   ]
  },
  {
   "cell_type": "code",
   "execution_count": 17,
   "metadata": {},
   "outputs": [
    {
     "name": "stdout",
     "output_type": "stream",
     "text": [
      "{'weber.edu': '137.190.8.10', 'kabaju.net': '166.70.198.171', 'google.com': '216.58.216.46'}\n",
      "{'weber.edu': '137.190.8.10', 'kabaju.net': '166.70.198.171', 'google.com': '216.58.216.46'}\n"
     ]
    }
   ],
   "source": [
    "print(r('google.com'))\n",
    "print(r._cache)"
   ]
  },
  {
   "cell_type": "code",
   "execution_count": 18,
   "metadata": {},
   "outputs": [
    {
     "name": "stdout",
     "output_type": "stream",
     "text": [
      "{'weber.edu': '137.190.8.10', 'kabaju.net': '166.70.198.171', 'google.com': '216.58.216.46'}\n"
     ]
    }
   ],
   "source": [
    "print(r('kabaju.net'))"
   ]
  },
  {
   "cell_type": "code",
   "execution_count": 21,
   "metadata": {},
   "outputs": [
    {
     "name": "stdout",
     "output_type": "stream",
     "text": [
      "{'': '0.0.0.0', 'google.com': '216.58.216.46'}\n",
      "True\n"
     ]
    }
   ],
   "source": [
    "resolve = Resolver()\n",
    "resolve(\"\")\n",
    "print(resolve('google.com'))\n",
    "print(resolve.has_host('google.com'))\n"
   ]
  },
  {
   "cell_type": "code",
   "execution_count": 22,
   "metadata": {},
   "outputs": [
    {
     "name": "stdout",
     "output_type": "stream",
     "text": [
      "False\n"
     ]
    }
   ],
   "source": [
    "resolve.clear()\n",
    "print(resolve.has_host('google.com'))"
   ]
  },
  {
   "cell_type": "markdown",
   "metadata": {},
   "source": [
    "## Classes are callable\n",
    "See **sequence_class (immutable):** in callable.py"
   ]
  },
  {
   "cell_type": "markdown",
   "metadata": {},
   "source": [
    "## Lambda\n",
    "\n",
    "Named after Alonzo Church who developed lambda calculus\n",
    "\n",
    "See callable.py\n",
    "\n",
    "Lambda is itself an expression which results in a callable function\n",
    "\n",
    "use the keyword **lambda** to define a lambda function"
   ]
  },
  {
   "cell_type": "code",
   "execution_count": 23,
   "metadata": {},
   "outputs": [
    {
     "name": "stdout",
     "output_type": "stream",
     "text": [
      "Help on built-in function sorted in module builtins:\n",
      "\n",
      "sorted(iterable, /, *, key=None, reverse=False)\n",
      "    Return a new list containing all items from the iterable in ascending order.\n",
      "    \n",
      "    A custom key function can be supplied to customize the sort order, and the\n",
      "    reverse flag can be set to request the result in descending order.\n",
      "\n",
      "None\n"
     ]
    }
   ],
   "source": [
    "# to sort information, key optional value\n",
    "print(help(sorted))"
   ]
  },
  {
   "cell_type": "code",
   "execution_count": 24,
   "metadata": {},
   "outputs": [
    {
     "data": {
      "text/plain": [
       "function"
      ]
     },
     "execution_count": 24,
     "metadata": {},
     "output_type": "execute_result"
    }
   ],
   "source": [
    "# Our lambda takes on argument, called name,\n",
    "# in the body of the lambda after to colon calls the str.split method \n",
    "# and returns the last element of the resulting sequence using negative index\n",
    "last_name = lambda name: name.split()[-1]\n",
    "type(last_name)\n"
   ]
  },
  {
   "cell_type": "code",
   "execution_count": 25,
   "metadata": {},
   "outputs": [
    {
     "data": {
      "text/plain": [
       "'Waldo'"
      ]
     },
     "execution_count": 25,
     "metadata": {},
     "output_type": "execute_result"
    }
   ],
   "source": [
    "last_name('Weber Waldo')"
   ]
  },
  {
   "cell_type": "code",
   "execution_count": 26,
   "metadata": {},
   "outputs": [
    {
     "data": {
      "text/plain": [
       "'Harry'"
      ]
     },
     "execution_count": 26,
     "metadata": {},
     "output_type": "execute_result"
    }
   ],
   "source": [
    "# Regular function\n",
    "def first_name(name):\n",
    "    return name.split()[0]\n",
    "\n",
    "#Test it\n",
    "first_name('Harry Potter')"
   ]
  },
  {
   "cell_type": "markdown",
   "metadata": {
    "collapsed": true
   },
   "source": [
    "### Comparision Between Functions and Lambdas\n",
    "Function | Lambda\n",
    "---------|---------\n",
    "**Statements** which define a function and binds it to a name | **expression** which evluates to a function\n",
    "Must have a name | Anonymous\n",
    "Arguments delimited by parenthesies, and sperated by commas | Argument list terminated by colon, seperated by commas\n",
    "Zero or more arguments supported. Zero arguments => | Zero or more argumetns are supported. Zero argumetns =>  **lambda**\n",
    "Body is indented block of statements | The body is a single expression\n",
    "A return statement is requried to return anything than None | The retun Value is given by the body epxression. No return statment is permitted.\n",
    "Can have docstrings (help documentation) | Cannot have docstrings\n",
    "Easy to access for testing | Awkward or impossible to test "
   ]
  },
  {
   "cell_type": "markdown",
   "metadata": {},
   "source": [
    "# Detecting callable objects\n",
    "you can use the **callable()** built in function\n",
    "\n",
    "\n"
   ]
  },
  {
   "cell_type": "code",
   "execution_count": 2,
   "metadata": {},
   "outputs": [
    {
     "data": {
      "text/plain": [
       "True"
      ]
     },
     "execution_count": 2,
     "metadata": {},
     "output_type": "execute_result"
    }
   ],
   "source": [
    "def is_even(x):\n",
    "    return x %2 == 0\n",
    "\n",
    "callable(is_even)"
   ]
  },
  {
   "cell_type": "code",
   "execution_count": 3,
   "metadata": {},
   "outputs": [
    {
     "ename": "NameError",
     "evalue": "name 'is_odd' is not defined",
     "output_type": "error",
     "traceback": [
      "\u001b[1;31m---------------------------------------------------------------------------\u001b[0m",
      "\u001b[1;31mNameError\u001b[0m                                 Traceback (most recent call last)",
      "\u001b[1;32m<ipython-input-3-26397c665b5a>\u001b[0m in \u001b[0;36m<module>\u001b[1;34m()\u001b[0m\n\u001b[1;32m----> 1\u001b[1;33m \u001b[0mis_odd\u001b[0m\u001b[1;33m\u001b[0m\u001b[0m\n\u001b[0m",
      "\u001b[1;31mNameError\u001b[0m: name 'is_odd' is not defined"
     ]
    }
   ],
   "source": [
    "is_odd"
   ]
  },
  {
   "cell_type": "markdown",
   "metadata": {},
   "source": [
    "Classes are callable\n"
   ]
  },
  {
   "cell_type": "code",
   "execution_count": 4,
   "metadata": {},
   "outputs": [
    {
     "data": {
      "text/plain": [
       "True"
      ]
     },
     "execution_count": 4,
     "metadata": {},
     "output_type": "execute_result"
    }
   ],
   "source": [
    "callable(list)"
   ]
  },
  {
   "cell_type": "markdown",
   "metadata": {},
   "source": [
    "Methods are callable"
   ]
  },
  {
   "cell_type": "code",
   "execution_count": 7,
   "metadata": {},
   "outputs": [
    {
     "data": {
      "text/plain": [
       "True"
      ]
     },
     "execution_count": 7,
     "metadata": {},
     "output_type": "execute_result"
    }
   ],
   "source": [
    "callable(list.append)"
   ]
  },
  {
   "cell_type": "markdown",
   "metadata": {},
   "source": [
    "Instance objects can be callable by defining the duncer-call method"
   ]
  },
  {
   "cell_type": "code",
   "execution_count": 8,
   "metadata": {},
   "outputs": [
    {
     "data": {
      "text/plain": [
       "True"
      ]
     },
     "execution_count": 8,
     "metadata": {},
     "output_type": "execute_result"
    }
   ],
   "source": [
    "class CallMe:\n",
    "    def __call__(self):\n",
    "        print(\"Called!\")\n",
    "\n",
    "call = CallMe()\n",
    "callable(call)"
   ]
  },
  {
   "cell_type": "code",
   "execution_count": 10,
   "metadata": {},
   "outputs": [
    {
     "data": {
      "text/plain": [
       "False"
      ]
     },
     "execution_count": 10,
     "metadata": {},
     "output_type": "execute_result"
    }
   ],
   "source": [
    "callable('str')"
   ]
  },
  {
   "cell_type": "markdown",
   "metadata": {},
   "source": [
    "But not everything is callable, plenty of objects are not"
   ]
  },
  {
   "cell_type": "code",
   "execution_count": 14,
   "metadata": {},
   "outputs": [
    {
     "data": {
      "text/plain": [
       "False"
      ]
     },
     "execution_count": 14,
     "metadata": {},
     "output_type": "execute_result"
    }
   ],
   "source": [
    "d = {1:'one', 2:'two', 3:'three'}\n",
    "callable(d)"
   ]
  },
  {
   "cell_type": "code",
   "execution_count": null,
   "metadata": {
    "collapsed": true
   },
   "outputs": [],
   "source": []
  }
 ],
 "metadata": {
  "kernelspec": {
   "display_name": "Python 3",
   "language": "python",
   "name": "python3"
  },
  "language_info": {
   "codemirror_mode": {
    "name": "ipython",
    "version": 3
   },
   "file_extension": ".py",
   "mimetype": "text/x-python",
   "name": "python",
   "nbconvert_exporter": "python",
   "pygments_lexer": "ipython3",
   "version": "3.6.3"
  }
 },
 "nbformat": 4,
 "nbformat_minor": 1
}
