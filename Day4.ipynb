{
 "cells": [
  {
   "cell_type": "markdown",
   "metadata": {},
   "source": [
    "# Inheritance and Subclasses"
   ]
  },
  {
   "cell_type": "code",
   "execution_count": 10,
   "metadata": {},
   "outputs": [],
   "source": [
    "class Employee:\n",
    "    num_of_emps = 0\n",
    "    raise_amount = 1.04\n",
    "    \n",
    "    def __init__(self, first, last, pay):\n",
    "        self._first = first\n",
    "        self._last = last\n",
    "        self._pay = pay\n",
    "        self._email = first + '.' + last + \"@weber.edu\"\n",
    "        Employee.num_of_emps += 1\n",
    "        \n",
    "    def fullname(self):\n",
    "        return \"{} {}\".format(self._first, self._last)\n",
    "    \n",
    "    def apply_raise(self):\n",
    "        self._pay = int(self._pay * self.raise_amount)\n",
    "        \n",
    "        \n",
    "# inherits from Emplyee        \n",
    "class Developer(Employee):\n",
    "    raise_amount = 1.10\n",
    "    \n",
    "    def __init__(self, first, last, pay, prog_lang):\n",
    "        super().__init__(first, last, pay)\n",
    "        self._prog_lang = prog_lang\n",
    "    "
   ]
  },
  {
   "cell_type": "code",
   "execution_count": 11,
   "metadata": {},
   "outputs": [
    {
     "name": "stdout",
     "output_type": "stream",
     "text": [
      "Help on class Developer in module __main__:\n",
      "\n",
      "class Developer(Employee)\n",
      " |  Method resolution order:\n",
      " |      Developer\n",
      " |      Employee\n",
      " |      builtins.object\n",
      " |  \n",
      " |  Methods defined here:\n",
      " |  \n",
      " |  __init__(self, first, last, pay, prog_lang)\n",
      " |      Initialize self.  See help(type(self)) for accurate signature.\n",
      " |  \n",
      " |  ----------------------------------------------------------------------\n",
      " |  Data and other attributes defined here:\n",
      " |  \n",
      " |  raise_amount = 1.1\n",
      " |  \n",
      " |  ----------------------------------------------------------------------\n",
      " |  Methods inherited from Employee:\n",
      " |  \n",
      " |  apply_raise(self)\n",
      " |  \n",
      " |  fullname(self)\n",
      " |  \n",
      " |  ----------------------------------------------------------------------\n",
      " |  Data descriptors inherited from Employee:\n",
      " |  \n",
      " |  __dict__\n",
      " |      dictionary for instance variables (if defined)\n",
      " |  \n",
      " |  __weakref__\n",
      " |      list of weak references to the object (if defined)\n",
      " |  \n",
      " |  ----------------------------------------------------------------------\n",
      " |  Data and other attributes inherited from Employee:\n",
      " |  \n",
      " |  num_of_emps = 0\n",
      "\n",
      "None\n"
     ]
    }
   ],
   "source": [
    "print(help(Developer))"
   ]
  },
  {
   "cell_type": "code",
   "execution_count": 13,
   "metadata": {},
   "outputs": [
    {
     "name": "stdout",
     "output_type": "stream",
     "text": [
      "john.smith@weber.edu\n",
      "50000\n"
     ]
    }
   ],
   "source": [
    "dev1 = Developer(\"john\", \"smith\", 50000, 'python')\n",
    "print(dev1._email)\n",
    "print(dev1._pay)"
   ]
  },
  {
   "cell_type": "code",
   "execution_count": 14,
   "metadata": {},
   "outputs": [
    {
     "name": "stdout",
     "output_type": "stream",
     "text": [
      "55000\n"
     ]
    }
   ],
   "source": [
    "dev1.apply_raise()\n",
    "print(dev1._pay)\n"
   ]
  },
  {
   "cell_type": "code",
   "execution_count": 38,
   "metadata": {},
   "outputs": [],
   "source": [
    "class Employee:\n",
    "    num_of_emps = 0\n",
    "    raise_amount = 1.04\n",
    "    \n",
    "    def __init__(self, first, last, pay):\n",
    "        self._first = first\n",
    "        self._last = last\n",
    "        self._pay = pay\n",
    "        self._email = first + '.' + last + \"@weber.edu\"\n",
    "        Employee.num_of_emps += 1\n",
    "        \n",
    "    def fullname(self):\n",
    "        return \"{} {}\".format(self._first, self._last)\n",
    "    \n",
    "    def apply_raise(self):\n",
    "        self._pay = int(self._pay * self.raise_amount)\n",
    "        \n",
    "    def __str__(self):\n",
    "        return '{} {}'.format(self._first, self._last)\n",
    "        \n",
    "        \n",
    "# inherits from Emplyee        \n",
    "class Developer(Employee):\n",
    "    raise_amount = 1.10\n",
    "    \n",
    "    def __init__(self, first, last, pay, prog_lang):\n",
    "        super().__init__(first, last, pay)\n",
    "        self._prog_lang = prog_lang\n",
    "\n",
    "# Create a new class **Manager**\n",
    "class Manager(Employee):\n",
    "    def __init__(self, first, last, pay, employees=[]):\n",
    "        super().__init__(first, last, pay)\n",
    "        if employees is None:\n",
    "            self._employees = []\n",
    "        else:\n",
    "            self._employees = employees\n",
    "        \n",
    "        \n",
    "    def add_employee(self, emp):\n",
    "        if emp not in self._employees:\n",
    "            self._employees.append(emp)\n",
    "        \n",
    "    def remove_employee(self, emp):\n",
    "        if emp in self._employees:\n",
    "            self._employees.remove(emp)\n",
    "    \n",
    "    def print_emps(self):\n",
    "        \"\"\"Print list of employee objects\"\"\"\n",
    "        list = ''\n",
    "        for emp in self._employees:\n",
    "            list = '{} -- {}/n'.format(list, str(emp))\n",
    "        return list\n",
    "    "
   ]
  },
  {
   "cell_type": "code",
   "execution_count": 39,
   "metadata": {},
   "outputs": [
    {
     "name": "stdout",
     "output_type": "stream",
     "text": [
      "Bill.Gates@weber.edu\n"
     ]
    },
    {
     "data": {
      "text/plain": [
       "' -- John Smith/n -- Sean Penn/n'"
      ]
     },
     "execution_count": 39,
     "metadata": {},
     "output_type": "execute_result"
    }
   ],
   "source": [
    "dev1 = Developer('John', 'Smith', 50000, 'Python')\n",
    "dev2 = Developer('Sean', 'Penn', 30000, 'Java')\n",
    "\n",
    "mgr1 = Manager('Bill', 'Gates', 90000, [dev1, dev2])\n",
    "print(mgr1._email)\n",
    "mgr1.print_emps()"
   ]
  },
  {
   "cell_type": "code",
   "execution_count": 40,
   "metadata": {},
   "outputs": [
    {
     "name": "stdout",
     "output_type": "stream",
     "text": [
      "John Smith\n",
      "Sean Penn\n"
     ]
    }
   ],
   "source": [
    "print(dev1)\n",
    "print(dev2)"
   ]
  },
  {
   "cell_type": "markdown",
   "metadata": {},
   "source": [
    "## Sorted list Example\n"
   ]
  },
  {
   "cell_type": "code",
   "execution_count": 68,
   "metadata": {
    "collapsed": true
   },
   "outputs": [],
   "source": [
    "class SimpleList:\n",
    "    def __init__(self, items):\n",
    "        self._items = items\n",
    "        \n",
    "    def add(self, item):\n",
    "        self._items.append(item)\n",
    "        \n",
    "    def __getitem__(self, index):\n",
    "        return self._items[index]\n",
    "    \n",
    "    def sort(self):\n",
    "        self._items.sort()\n",
    "        \n",
    "    def __len__(self):\n",
    "        return len(self._items)\n",
    "    \n",
    "    def __repr__(self):\n",
    "        return \"SimpleList({})\".format(self._items)"
   ]
  },
  {
   "cell_type": "code",
   "execution_count": 69,
   "metadata": {},
   "outputs": [],
   "source": [
    "class SortedList(SimpleList):\n",
    "    def __init__(self, items=()):\n",
    "        super().__init__(items)\n",
    "        self.sort()\n",
    "        \n",
    "    # Over write methd\n",
    "    def add(self, item):\n",
    "        super().add(item)\n",
    "        self.sort()\n",
    "        \n",
    "    def __repr__(self):\n",
    "        return \"Sorted list({})\".format(list(self))\n",
    "    "
   ]
  },
  {
   "cell_type": "code",
   "execution_count": 70,
   "metadata": {},
   "outputs": [
    {
     "name": "stdout",
     "output_type": "stream",
     "text": [
      "Sorted list([1, 3, 4, 78])\n"
     ]
    }
   ],
   "source": [
    "s1 = SortedList([4, 3, 78, 1])\n",
    "print(s1)"
   ]
  },
  {
   "cell_type": "code",
   "execution_count": 71,
   "metadata": {},
   "outputs": [
    {
     "data": {
      "text/plain": [
       "4"
      ]
     },
     "execution_count": 71,
     "metadata": {},
     "output_type": "execute_result"
    }
   ],
   "source": [
    "len(s1)"
   ]
  },
  {
   "cell_type": "markdown",
   "metadata": {},
   "source": [
    "## Multiple Inheritance\n",
    "In python is not much more complex than single inheritance\n",
    "\n",
    "### isinstance()\n",
    "determines if an object is of a specific type\n",
    "use **isinstance()** for run time type checking"
   ]
  },
  {
   "cell_type": "code",
   "execution_count": 72,
   "metadata": {},
   "outputs": [
    {
     "name": "stdout",
     "output_type": "stream",
     "text": [
      "Help on built-in function isinstance in module builtins:\n",
      "\n",
      "isinstance(obj, class_or_tuple, /)\n",
      "    Return whether an object is an instance of a class or of a subclass thereof.\n",
      "    \n",
      "    A tuple, as in ``isinstance(x, (A, B, ...))``, may be given as the target to\n",
      "    check against. This is equivalent to ``isinstance(x, A) or isinstance(x, B)\n",
      "    or ...`` etc.\n",
      "\n"
     ]
    }
   ],
   "source": [
    "help(isinstance)"
   ]
  },
  {
   "cell_type": "code",
   "execution_count": 73,
   "metadata": {},
   "outputs": [
    {
     "data": {
      "text/plain": [
       "True"
      ]
     },
     "execution_count": 73,
     "metadata": {},
     "output_type": "execute_result"
    }
   ],
   "source": [
    "# Test it\n",
    "isinstance(3, int)"
   ]
  },
  {
   "cell_type": "code",
   "execution_count": 74,
   "metadata": {},
   "outputs": [
    {
     "data": {
      "text/plain": [
       "True"
      ]
     },
     "execution_count": 74,
     "metadata": {},
     "output_type": "execute_result"
    }
   ],
   "source": [
    "isinstance('hello', str)"
   ]
  },
  {
   "cell_type": "code",
   "execution_count": 75,
   "metadata": {},
   "outputs": [
    {
     "data": {
      "text/plain": [
       "False"
      ]
     },
     "execution_count": 75,
     "metadata": {},
     "output_type": "execute_result"
    }
   ],
   "source": [
    "isinstance(4.75, bytes)"
   ]
  },
  {
   "cell_type": "code",
   "execution_count": 76,
   "metadata": {},
   "outputs": [
    {
     "data": {
      "text/plain": [
       "True"
      ]
     },
     "execution_count": 76,
     "metadata": {},
     "output_type": "execute_result"
    }
   ],
   "source": [
    "# It could also check if an object is a subclass of the second argument\n",
    "sl2 = SortedList([4, 5, 1, 99, 2])\n",
    "isinstance(sl2, SortedList)"
   ]
  },
  {
   "cell_type": "code",
   "execution_count": 77,
   "metadata": {},
   "outputs": [
    {
     "data": {
      "text/plain": [
       "True"
      ]
     },
     "execution_count": 77,
     "metadata": {},
     "output_type": "execute_result"
    }
   ],
   "source": [
    "isinstance(sl2, SimpleList)"
   ]
  },
  {
   "cell_type": "markdown",
   "metadata": {},
   "source": [
    "It can also accpet a tuple of types for its second arugment"
   ]
  },
  {
   "cell_type": "code",
   "execution_count": 78,
   "metadata": {},
   "outputs": [
    {
     "data": {
      "text/plain": [
       "True"
      ]
     },
     "execution_count": 78,
     "metadata": {},
     "output_type": "execute_result"
    }
   ],
   "source": [
    "x = []\n",
    "isinstance(x, (float, dict, list))"
   ]
  },
  {
   "cell_type": "code",
   "execution_count": 79,
   "metadata": {},
   "outputs": [],
   "source": [
    "# Create a class of list from ints\n",
    "class IntList(SimpleList):\n",
    "    def __init__(self, items=()):\n",
    "        for x in items:\n",
    "            self._validate(x)\n",
    "        super().__init__(items)\n",
    "        \n",
    "    def add(self, item):\n",
    "        self._validate(item)\n",
    "        super().add(item)\n",
    "            \n",
    "    @staticmethod\n",
    "    def _validate(x):\n",
    "        if not isinstance(x, int):\n",
    "            raise TypeError(\"IntList only supports integer values.\")\n"
   ]
  },
  {
   "cell_type": "code",
   "execution_count": 80,
   "metadata": {},
   "outputs": [
    {
     "name": "stdout",
     "output_type": "stream",
     "text": [
      "SimpleList([1, 2, 3, 4])\n"
     ]
    },
    {
     "ename": "TypeError",
     "evalue": "IntList only supports integer values.",
     "output_type": "error",
     "traceback": [
      "\u001b[1;31m---------------------------------------------------------------------------\u001b[0m",
      "\u001b[1;31mTypeError\u001b[0m                                 Traceback (most recent call last)",
      "\u001b[1;32m<ipython-input-80-9d91061ab359>\u001b[0m in \u001b[0;36m<module>\u001b[1;34m()\u001b[0m\n\u001b[0;32m      2\u001b[0m \u001b[0mprint\u001b[0m\u001b[1;33m(\u001b[0m\u001b[0mil\u001b[0m\u001b[1;33m)\u001b[0m\u001b[1;33m\u001b[0m\u001b[0m\n\u001b[0;32m      3\u001b[0m \u001b[1;33m\u001b[0m\u001b[0m\n\u001b[1;32m----> 4\u001b[1;33m \u001b[0mil\u001b[0m\u001b[1;33m.\u001b[0m\u001b[0madd\u001b[0m\u001b[1;33m(\u001b[0m\u001b[1;34m'5'\u001b[0m\u001b[1;33m)\u001b[0m\u001b[1;33m\u001b[0m\u001b[0m\n\u001b[0m",
      "\u001b[1;32m<ipython-input-79-f329301c19a2>\u001b[0m in \u001b[0;36madd\u001b[1;34m(self, item)\u001b[0m\n\u001b[0;32m      7\u001b[0m \u001b[1;33m\u001b[0m\u001b[0m\n\u001b[0;32m      8\u001b[0m     \u001b[1;32mdef\u001b[0m \u001b[0madd\u001b[0m\u001b[1;33m(\u001b[0m\u001b[0mself\u001b[0m\u001b[1;33m,\u001b[0m \u001b[0mitem\u001b[0m\u001b[1;33m)\u001b[0m\u001b[1;33m:\u001b[0m\u001b[1;33m\u001b[0m\u001b[0m\n\u001b[1;32m----> 9\u001b[1;33m         \u001b[0mself\u001b[0m\u001b[1;33m.\u001b[0m\u001b[0m_validate\u001b[0m\u001b[1;33m(\u001b[0m\u001b[0mitem\u001b[0m\u001b[1;33m)\u001b[0m\u001b[1;33m\u001b[0m\u001b[0m\n\u001b[0m\u001b[0;32m     10\u001b[0m         \u001b[0msuper\u001b[0m\u001b[1;33m(\u001b[0m\u001b[1;33m)\u001b[0m\u001b[1;33m.\u001b[0m\u001b[0madd\u001b[0m\u001b[1;33m(\u001b[0m\u001b[0mitem\u001b[0m\u001b[1;33m)\u001b[0m\u001b[1;33m\u001b[0m\u001b[0m\n\u001b[0;32m     11\u001b[0m \u001b[1;33m\u001b[0m\u001b[0m\n",
      "\u001b[1;32m<ipython-input-79-f329301c19a2>\u001b[0m in \u001b[0;36m_validate\u001b[1;34m(x)\u001b[0m\n\u001b[0;32m     13\u001b[0m     \u001b[1;32mdef\u001b[0m \u001b[0m_validate\u001b[0m\u001b[1;33m(\u001b[0m\u001b[0mx\u001b[0m\u001b[1;33m)\u001b[0m\u001b[1;33m:\u001b[0m\u001b[1;33m\u001b[0m\u001b[0m\n\u001b[0;32m     14\u001b[0m         \u001b[1;32mif\u001b[0m \u001b[1;32mnot\u001b[0m \u001b[0misinstance\u001b[0m\u001b[1;33m(\u001b[0m\u001b[0mx\u001b[0m\u001b[1;33m,\u001b[0m \u001b[0mint\u001b[0m\u001b[1;33m)\u001b[0m\u001b[1;33m:\u001b[0m\u001b[1;33m\u001b[0m\u001b[0m\n\u001b[1;32m---> 15\u001b[1;33m             \u001b[1;32mraise\u001b[0m \u001b[0mTypeError\u001b[0m\u001b[1;33m(\u001b[0m\u001b[1;34m\"IntList only supports integer values.\"\u001b[0m\u001b[1;33m)\u001b[0m\u001b[1;33m\u001b[0m\u001b[0m\n\u001b[0m",
      "\u001b[1;31mTypeError\u001b[0m: IntList only supports integer values."
     ]
    }
   ],
   "source": [
    "il = IntList([1, 2, 3, 4])\n",
    "print(il)\n",
    "\n",
    "il.add('5')"
   ]
  },
  {
   "cell_type": "code",
   "execution_count": 81,
   "metadata": {},
   "outputs": [],
   "source": [
    "il.add(5)"
   ]
  },
  {
   "cell_type": "code",
   "execution_count": 82,
   "metadata": {},
   "outputs": [
    {
     "name": "stdout",
     "output_type": "stream",
     "text": [
      "SimpleList([1, 2, 3, 4, 5])\n"
     ]
    }
   ],
   "source": [
    "print(il)"
   ]
  },
  {
   "cell_type": "markdown",
   "metadata": {},
   "source": [
    "## issubclass()\n",
    "* Determines if one type is a subclass of another\n",
    "* operates on types only rather than operating on instances"
   ]
  },
  {
   "cell_type": "code",
   "execution_count": 84,
   "metadata": {},
   "outputs": [
    {
     "name": "stdout",
     "output_type": "stream",
     "text": [
      "True\n"
     ]
    }
   ],
   "source": [
    "# help(issubclass)\n",
    "\n",
    "# test it\n",
    "print(issubclass(IntList, SimpleList))"
   ]
  },
  {
   "cell_type": "code",
   "execution_count": 85,
   "metadata": {},
   "outputs": [
    {
     "data": {
      "text/plain": [
       "False"
      ]
     },
     "execution_count": 85,
     "metadata": {},
     "output_type": "execute_result"
    }
   ],
   "source": [
    "issubclass(SortedList, IntList)"
   ]
  },
  {
   "cell_type": "code",
   "execution_count": 86,
   "metadata": {},
   "outputs": [
    {
     "data": {
      "text/plain": [
       "True"
      ]
     },
     "execution_count": 86,
     "metadata": {},
     "output_type": "execute_result"
    }
   ],
   "source": [
    "issubclass(SortedList, SimpleList)"
   ]
  },
  {
   "cell_type": "markdown",
   "metadata": {},
   "source": [
    "the **issubclass()** looks at the entire inheritance graph, not just the parents"
   ]
  },
  {
   "cell_type": "code",
   "execution_count": 88,
   "metadata": {},
   "outputs": [
    {
     "name": "stdout",
     "output_type": "stream",
     "text": [
      "True\n"
     ]
    }
   ],
   "source": [
    "class MyInt(int):\n",
    "    pass\n",
    "\n",
    "class MyVerySpecialInt(MyInt):\n",
    "    pass\n",
    "\n",
    "print(issubclass(MyVerySpecialInt, int))"
   ]
  },
  {
   "cell_type": "markdown",
   "metadata": {},
   "source": [
    "## Multiple Inheratince\n",
    "Defining a class with more than one base class.\n",
    "\n",
    "This is not a unversial functionality of OO languages. (C++ supports this, Java does not)\n",
    "\n",
    "Python has a relative simple and understandable system for multiple inheritance. Syntax is as follows:\n",
    "\n",
    "**class SubClass(Base1, Base2, ...)\n",
    "* Subclasses inherit method from all classes\n",
    "* Without conflict, names resolve in obvious way\n",
    "* Method Resolution Order **(MRO)** which determines name lookup in all cases"
   ]
  },
  {
   "cell_type": "code",
   "execution_count": 89,
   "metadata": {
    "collapsed": true
   },
   "outputs": [],
   "source": [
    "# SortedIntList(sortedList, IntList)\n",
    "class SortedIntList(IntList, SortedList):\n",
    "    def __repr__(self):\n",
    "        return \"SortedIntList({})\".format(list(self))"
   ]
  },
  {
   "cell_type": "code",
   "execution_count": 91,
   "metadata": {},
   "outputs": [
    {
     "data": {
      "text/plain": [
       "SortedIntList([2, 3, 42, 99])"
      ]
     },
     "execution_count": 91,
     "metadata": {},
     "output_type": "execute_result"
    }
   ],
   "source": [
    "# test it\n",
    "sil = SortedIntList([42, 2, 99, 3])\n",
    "sil"
   ]
  },
  {
   "cell_type": "code",
   "execution_count": 92,
   "metadata": {},
   "outputs": [
    {
     "name": "stdout",
     "output_type": "stream",
     "text": [
      "SortedIntList([-999, 2, 3, 42, 99])\n"
     ]
    }
   ],
   "source": [
    "sil.add(-999)\n",
    "print(sil)"
   ]
  },
  {
   "cell_type": "markdown",
   "metadata": {},
   "source": [
    "* How does Python know which **add()** to call?\n",
    "* How does Python maintain both constraints?\n",
    "\n",
    "The answers to these questions is the **resolution order.** **MRO** and **super()** do the work\n",
    "\n",
    "If a class has multiple base classes, then it defines **no initializer** then **only** the initilaizer **first** base class is automatically called.\n",
    "\n",
    "In our example for SortedIntList, it behaves first as an iteger, then as a sorted list"
   ]
  },
  {
   "cell_type": "code",
   "execution_count": 94,
   "metadata": {},
   "outputs": [
    {
     "name": "stdout",
     "output_type": "stream",
     "text": [
      "Base1.__init__\n"
     ]
    }
   ],
   "source": [
    "# Another example\n",
    "class Base1:\n",
    "    def __init__(self):\n",
    "        print(\"Base1.__init__\")\n",
    "        \n",
    "class Base2:\n",
    "    def __init__(self):\n",
    "        print(\"Base2.__init__\")\n",
    "        \n",
    "class Sub(Base1, Base2):\n",
    "    pass\n",
    "\n",
    "s = Sub()"
   ]
  },
  {
   "cell_type": "markdown",
   "metadata": {},
   "source": [
    "Through the use of **super()** we coudl design these classes such that both the Base1 and Base2 are called automatically\n",
    "\n",
    "**Dunder-basses** A tuple of bases"
   ]
  },
  {
   "cell_type": "code",
   "execution_count": 95,
   "metadata": {},
   "outputs": [
    {
     "data": {
      "text/plain": [
       "(__main__.IntList, __main__.SortedList)"
      ]
     },
     "execution_count": 95,
     "metadata": {},
     "output_type": "execute_result"
    }
   ],
   "source": [
    "SortedIntList.__bases__"
   ]
  },
  {
   "cell_type": "code",
   "execution_count": 96,
   "metadata": {},
   "outputs": [
    {
     "data": {
      "text/plain": [
       "(__main__.SimpleList,)"
      ]
     },
     "execution_count": 96,
     "metadata": {},
     "output_type": "execute_result"
    }
   ],
   "source": [
    "IntList.__bases__"
   ]
  },
  {
   "cell_type": "markdown",
   "metadata": {},
   "source": [
    "## Method Resolution Order (MRO)\n",
    "Ordering that determines method named lookup\n",
    "* Methods may be defined in multiple places\n",
    "* MRO is an ordering of the inheritance graphs\n",
    "\n",
    "When you invode a method on an object which has more than one base-class, the actual code that gets run may be defined on: \n",
    "* the class itself\n",
    "* one of it's direct base classes\n",
    "* a base-class of a base-class\n",
    "* any other member of the class's inheritance graph\n",
    "\n",
    "It uses the **dunder-mro** attribute\n",
    "\n"
   ]
  },
  {
   "cell_type": "code",
   "execution_count": 100,
   "metadata": {},
   "outputs": [
    {
     "data": {
      "text/plain": [
       "(__main__.SortedIntList,\n",
       " __main__.IntList,\n",
       " __main__.SortedList,\n",
       " __main__.SimpleList,\n",
       " object)"
      ]
     },
     "execution_count": 100,
     "metadata": {},
     "output_type": "execute_result"
    }
   ],
   "source": [
    "\n",
    "SortedIntList.__mro__"
   ]
  },
  {
   "cell_type": "code",
   "execution_count": 101,
   "metadata": {},
   "outputs": [
    {
     "data": {
      "text/plain": [
       "[__main__.SortedIntList,\n",
       " __main__.IntList,\n",
       " __main__.SortedList,\n",
       " __main__.SimpleList,\n",
       " object]"
      ]
     },
     "execution_count": 101,
     "metadata": {},
     "output_type": "execute_result"
    }
   ],
   "source": [
    "# get a list of \n",
    "SortedIntList.mro()\n"
   ]
  },
  {
   "cell_type": "markdown",
   "metadata": {},
   "source": [
    "### How is MRO used?\n",
    "**obj.method()**\n",
    "\n",
    "class SomeClass\n",
    "1. Instance of\n",
    "\n",
    "> Base1!\n",
    "\n",
    "> Base2!\n",
    "\n",
    "> Base3! Yes A hit\n",
    "\n",
    "> Base4!\n",
    "\n",
    "2. MRO\n",
    "\n",
    "> match!\n",
    "\n",
    "> Base3.method(obj)\n",
    "\n",
    "3. Resolves to:\n",
    "> some value"
   ]
  },
  {
   "cell_type": "code",
   "execution_count": 105,
   "metadata": {},
   "outputs": [
    {
     "data": {
      "text/plain": [
       "(__main__.D, __main__.B, __main__.C, __main__.A, object)"
      ]
     },
     "execution_count": 105,
     "metadata": {},
     "output_type": "execute_result"
    }
   ],
   "source": [
    "# exmaple\n",
    "\n",
    "class A:\n",
    "    def fun(self):\n",
    "        return 'A.func'\n",
    "    \n",
    "class B(A):\n",
    "    def func(self):\n",
    "        return \"B.func\"\n",
    "\n",
    "class C(A):\n",
    "    def func(self):\n",
    "        return \"C.func\"\n",
    "\n",
    "class D(B, C):\n",
    "    pass\n",
    "    \n",
    "D.__mro__\n"
   ]
  },
  {
   "cell_type": "markdown",
   "metadata": {},
   "source": [
    "**object** is the ultimate base class of every class"
   ]
  },
  {
   "cell_type": "code",
   "execution_count": 106,
   "metadata": {},
   "outputs": [
    {
     "name": "stdout",
     "output_type": "stream",
     "text": [
      "B.func\n"
     ]
    }
   ],
   "source": [
    "d = D()\n",
    "print(d.func())"
   ]
  },
  {
   "cell_type": "code",
   "execution_count": 107,
   "metadata": {},
   "outputs": [
    {
     "data": {
      "text/plain": [
       "[__main__.SortedIntList,\n",
       " __main__.IntList,\n",
       " __main__.SortedList,\n",
       " __main__.SimpleList,\n",
       " object]"
      ]
     },
     "execution_count": 107,
     "metadata": {},
     "output_type": "execute_result"
    }
   ],
   "source": [
    "SortedIntList.mro()"
   ]
  },
  {
   "cell_type": "markdown",
   "metadata": {},
   "source": [
    "How is IntList.ad() deferrign to SortedList.add()\n",
    "\n",
    "The answer is this is how **super()** actually works\n",
    "\n",
    "#### How does Python calculate the MRO\n",
    "C3: Algorithm for calcuating the MRO in Python\n",
    "* Subclasses come **before** bease classes\n",
    "* Base class order from class definition is **preserved**\n",
    "* First two qualities are preserved **no matter** where you start in the inheritance group\n",
    "\n",
    "Not all inheritance declarations are allowed"
   ]
  },
  {
   "cell_type": "code",
   "execution_count": 111,
   "metadata": {},
   "outputs": [
    {
     "ename": "TypeError",
     "evalue": "Cannot create a consistent method resolution\norder (MRO) for bases A, B, C",
     "output_type": "error",
     "traceback": [
      "\u001b[1;31m---------------------------------------------------------------------------\u001b[0m",
      "\u001b[1;31mTypeError\u001b[0m                                 Traceback (most recent call last)",
      "\u001b[1;32m<ipython-input-111-ae9c668a2e5e>\u001b[0m in \u001b[0;36m<module>\u001b[1;34m()\u001b[0m\n\u001b[0;32m     13\u001b[0m         \u001b[1;32mreturn\u001b[0m \u001b[1;34m\"C.func\"\u001b[0m\u001b[1;33m\u001b[0m\u001b[0m\n\u001b[0;32m     14\u001b[0m \u001b[1;33m\u001b[0m\u001b[0m\n\u001b[1;32m---> 15\u001b[1;33m \u001b[1;32mclass\u001b[0m \u001b[0mD\u001b[0m\u001b[1;33m(\u001b[0m\u001b[0mA\u001b[0m\u001b[1;33m,\u001b[0m \u001b[0mB\u001b[0m\u001b[1;33m,\u001b[0m \u001b[0mC\u001b[0m\u001b[1;33m)\u001b[0m\u001b[1;33m:\u001b[0m\u001b[1;33m\u001b[0m\u001b[0m\n\u001b[0m\u001b[0;32m     16\u001b[0m     \u001b[1;32mpass\u001b[0m\u001b[1;33m\u001b[0m\u001b[0m\n\u001b[0;32m     17\u001b[0m \u001b[1;33m\u001b[0m\u001b[0m\n",
      "\u001b[1;31mTypeError\u001b[0m: Cannot create a consistent method resolution\norder (MRO) for bases A, B, C"
     ]
    }
   ],
   "source": [
    "# exmaple\n",
    "\n",
    "class A:\n",
    "    def fun(self):\n",
    "        return 'A.func'\n",
    "    \n",
    "class B(A):\n",
    "    def func(self):\n",
    "        return \"B.func\"\n",
    "\n",
    "class C(A):\n",
    "    def func(self):\n",
    "        return \"C.func\"\n",
    "\n",
    "class D(A, B, C):\n",
    "    pass\n",
    "    \n",
    "D.__mro__\n"
   ]
  },
  {
   "cell_type": "markdown",
   "metadata": {},
   "source": [
    "### The built-in super() function\n",
    "\n",
    "You might conclude that the super() function somehow returns the base class of a method's class and that you can then invoke methods on the base class part of an object.\n",
    "\n",
    "**super()** can be called in several ways, but all of them returna so-called **super() proxy object**\n",
    "\n",
    "Two types:\n",
    "* Bound proxy: bound to a specific class\n",
    "* Unbound proxy: not bound to a class or inheritance"
   ]
  },
  {
   "cell_type": "markdown",
   "metadata": {},
   "source": [
    "### Bound Proxy\n",
    "* Instance-bound\n",
    "* Class-bound\n",
    "\n",
    "#### Class bound proxy\n",
    "super(base-class, drived-class) class object subclass of the firs argument. So when you invoke a method on the proxy, here is what happens:\n",
    "1. Python finds the MRO for derived class\n",
    "2. It then finds base-class in that MRO\n",
    "3. It takes everything **after** the base-class in the MRO, and finds the firs class in that sequence with a matching method. \n",
    "\n"
   ]
  },
  {
   "cell_type": "code",
   "execution_count": 112,
   "metadata": {},
   "outputs": [
    {
     "data": {
      "text/plain": [
       "[__main__.SortedIntList,\n",
       " __main__.IntList,\n",
       " __main__.SortedList,\n",
       " __main__.SimpleList,\n",
       " object]"
      ]
     },
     "execution_count": 112,
     "metadata": {},
     "output_type": "execute_result"
    }
   ],
   "source": [
    "SortedIntList.mro()"
   ]
  },
  {
   "cell_type": "code",
   "execution_count": 113,
   "metadata": {},
   "outputs": [
    {
     "data": {
      "text/plain": [
       "<super: __main__.SortedList, __main__.SortedIntList>"
      ]
     },
     "execution_count": 113,
     "metadata": {},
     "output_type": "execute_result"
    }
   ],
   "source": [
    "# What you get when you callit with super()\n",
    "super(SortedList, SortedIntList)"
   ]
  },
  {
   "cell_type": "markdown",
   "metadata": {},
   "source": [
    "Using the login above, **super(SortedList, SortedIntList)**\n",
    "* It finds the MRO of SortedIntList\n",
    " * SortedIntList\n",
    " * IntList\n",
    " * SortedList\n",
    " * SimpleList\n",
    " * Object\n",
    "* Finds the SortedList in tha tMRO\n",
    "* Takes everything afert that. Giving a simple MRO containing:\n",
    " * Simple List\n",
    " * Object\n",
    "* Finds a class with the **add()** method which is Simple List"
   ]
  },
  {
   "cell_type": "code",
   "execution_count": 114,
   "metadata": {},
   "outputs": [
    {
     "data": {
      "text/plain": [
       "<function __main__.SimpleList.add>"
      ]
     },
     "execution_count": 114,
     "metadata": {},
     "output_type": "execute_result"
    }
   ],
   "source": [
    "super(SortedList, SortedIntList).add"
   ]
  },
  {
   "cell_type": "code",
   "execution_count": 115,
   "metadata": {},
   "outputs": [
    {
     "ename": "TypeError",
     "evalue": "add() missing 1 required positional argument: 'item'",
     "output_type": "error",
     "traceback": [
      "\u001b[1;31m---------------------------------------------------------------------------\u001b[0m",
      "\u001b[1;31mTypeError\u001b[0m                                 Traceback (most recent call last)",
      "\u001b[1;32m<ipython-input-115-5c7d847c7cd2>\u001b[0m in \u001b[0;36m<module>\u001b[1;34m()\u001b[0m\n\u001b[1;32m----> 1\u001b[1;33m \u001b[0msuper\u001b[0m\u001b[1;33m(\u001b[0m\u001b[0mSortedList\u001b[0m\u001b[1;33m,\u001b[0m \u001b[0mSortedIntList\u001b[0m\u001b[1;33m)\u001b[0m\u001b[1;33m.\u001b[0m\u001b[0madd\u001b[0m\u001b[1;33m(\u001b[0m\u001b[1;36m4\u001b[0m\u001b[1;33m)\u001b[0m\u001b[1;33m\u001b[0m\u001b[0m\n\u001b[0m",
      "\u001b[1;31mTypeError\u001b[0m: add() missing 1 required positional argument: 'item'"
     ]
    }
   ],
   "source": [
    "super(SortedList, SortedIntList).add(4)"
   ]
  },
  {
   "cell_type": "code",
   "execution_count": 116,
   "metadata": {},
   "outputs": [
    {
     "ename": "TypeError",
     "evalue": "super(type, obj): obj must be an instance or subtype of type",
     "output_type": "error",
     "traceback": [
      "\u001b[1;31m---------------------------------------------------------------------------\u001b[0m",
      "\u001b[1;31mTypeError\u001b[0m                                 Traceback (most recent call last)",
      "\u001b[1;32m<ipython-input-116-b49285c6404e>\u001b[0m in \u001b[0;36m<module>\u001b[1;34m()\u001b[0m\n\u001b[0;32m      1\u001b[0m \u001b[1;31m# TEst it\u001b[0m\u001b[1;33m\u001b[0m\u001b[1;33m\u001b[0m\u001b[0m\n\u001b[1;32m----> 2\u001b[1;33m \u001b[0msuper\u001b[0m\u001b[1;33m(\u001b[0m\u001b[0mSortedIntList\u001b[0m\u001b[1;33m,\u001b[0m \u001b[0mSortedList\u001b[0m\u001b[1;33m)\u001b[0m\u001b[1;33m.\u001b[0m\u001b[0m_validate\u001b[0m\u001b[1;33m(\u001b[0m\u001b[1;36m5\u001b[0m\u001b[1;33m)\u001b[0m\u001b[1;33m\u001b[0m\u001b[0m\n\u001b[0m",
      "\u001b[1;31mTypeError\u001b[0m: super(type, obj): obj must be an instance or subtype of type"
     ]
    }
   ],
   "source": [
    "# TEst it\n",
    "super(SortedIntList, SortedList)._validate(5)"
   ]
  },
  {
   "cell_type": "code",
   "execution_count": 117,
   "metadata": {},
   "outputs": [
    {
     "ename": "RuntimeError",
     "evalue": "super(): no arguments",
     "output_type": "error",
     "traceback": [
      "\u001b[1;31m---------------------------------------------------------------------------\u001b[0m",
      "\u001b[1;31mRuntimeError\u001b[0m                              Traceback (most recent call last)",
      "\u001b[1;32m<ipython-input-117-aeda5bb25d66>\u001b[0m in \u001b[0;36m<module>\u001b[1;34m()\u001b[0m\n\u001b[0;32m      1\u001b[0m \u001b[1;31m# Call super without arguments\u001b[0m\u001b[1;33m\u001b[0m\u001b[1;33m\u001b[0m\u001b[0m\n\u001b[1;32m----> 2\u001b[1;33m \u001b[0msuper\u001b[0m\u001b[1;33m(\u001b[0m\u001b[1;33m)\u001b[0m\u001b[1;33m\u001b[0m\u001b[0m\n\u001b[0m",
      "\u001b[1;31mRuntimeError\u001b[0m: super(): no arguments"
     ]
    }
   ],
   "source": [
    "# Call super without arguments\n",
    "super()"
   ]
  },
  {
   "cell_type": "markdown",
   "metadata": {},
   "source": [
    "Both Classes use super() instead of direct base classes references. "
   ]
  },
  {
   "cell_type": "code",
   "execution_count": 118,
   "metadata": {},
   "outputs": [
    {
     "data": {
      "text/plain": [
       "[__main__.IntList, __main__.SimpleList, object]"
      ]
     },
     "execution_count": 118,
     "metadata": {},
     "output_type": "execute_result"
    }
   ],
   "source": [
    "IntList.mro()"
   ]
  },
  {
   "cell_type": "code",
   "execution_count": 119,
   "metadata": {},
   "outputs": [
    {
     "data": {
      "text/plain": [
       "[__main__.SortedIntList,\n",
       " __main__.IntList,\n",
       " __main__.SortedList,\n",
       " __main__.SimpleList,\n",
       " object]"
      ]
     },
     "execution_count": 119,
     "metadata": {},
     "output_type": "execute_result"
    }
   ],
   "source": [
    "SortedIntList.mro()"
   ]
  },
  {
   "cell_type": "code",
   "execution_count": 120,
   "metadata": {},
   "outputs": [
    {
     "data": {
      "text/plain": [
       "[int, object]"
      ]
     },
     "execution_count": 120,
     "metadata": {},
     "output_type": "execute_result"
    }
   ],
   "source": [
    "int.mro()"
   ]
  },
  {
   "cell_type": "code",
   "execution_count": 121,
   "metadata": {},
   "outputs": [
    {
     "data": {
      "text/plain": [
       "[object]"
      ]
     },
     "execution_count": 121,
     "metadata": {},
     "output_type": "execute_result"
    }
   ],
   "source": [
    "object.mro()"
   ]
  },
  {
   "cell_type": "code",
   "execution_count": 122,
   "metadata": {},
   "outputs": [
    {
     "data": {
      "text/plain": [
       "[list, object]"
      ]
     },
     "execution_count": 122,
     "metadata": {},
     "output_type": "execute_result"
    }
   ],
   "source": [
    "list.mro()"
   ]
  },
  {
   "cell_type": "code",
   "execution_count": 125,
   "metadata": {},
   "outputs": [
    {
     "data": {
      "text/plain": [
       "(object,)"
      ]
     },
     "execution_count": 125,
     "metadata": {},
     "output_type": "execute_result"
    }
   ],
   "source": [
    "class NoBaseClass:\n",
    "    pass\n",
    "\n",
    "NoBaseClass.__bases__"
   ]
  },
  {
   "cell_type": "code",
   "execution_count": 127,
   "metadata": {},
   "outputs": [
    {
     "data": {
      "text/plain": [
       "['__class__',\n",
       " '__delattr__',\n",
       " '__dir__',\n",
       " '__doc__',\n",
       " '__eq__',\n",
       " '__format__',\n",
       " '__ge__',\n",
       " '__getattribute__',\n",
       " '__gt__',\n",
       " '__hash__',\n",
       " '__init__',\n",
       " '__init_subclass__',\n",
       " '__le__',\n",
       " '__lt__',\n",
       " '__ne__',\n",
       " '__new__',\n",
       " '__reduce__',\n",
       " '__reduce_ex__',\n",
       " '__repr__',\n",
       " '__setattr__',\n",
       " '__sizeof__',\n",
       " '__str__',\n",
       " '__subclasshook__']"
      ]
     },
     "execution_count": 127,
     "metadata": {},
     "output_type": "execute_result"
    }
   ],
   "source": [
    "dir (object)"
   ]
  },
  {
   "cell_type": "markdown",
   "metadata": {},
   "source": [
    "# Implementing Collections\n",
    "\n",
    "Basic Collections:\n",
    "1. tuple\n",
    "2. str\n",
    "3. range\n",
    "4. list\n",
    "5. dict\n",
    "6. set\n",
    "\n",
    "Protocols to interact with them:\n",
    "1. Container: Membership using **in** and **not in**\n",
    "2. Sized: Determining the number of elements using **len()**\n",
    "3. Iterable: Can produce an iterator with **iter()**. Iterate over using *for item in iterable: do_something(item)*\n",
    "4. Sequece: \n",
    "  1. Retrieve elements by index: item = seq[index]\n",
    "  2. Find items by value: index = seq.index(item)\n",
    "  3. Count items: num = seq.count(item)\n",
    "  4. Produce reversed sequence: r = reversed\n",
    "  \n",
    "5. Set:\n",
    "  1. Set algebra operations\n",
    "  2. subset, proper subset, equal, not equal, superset\n",
    "  3. Intersections, unions, symmetric differences, differeces\n",
    "6. Mutable Sequences\n",
    "7. Mutable Set\n",
    "8. Mutable Mapping\n",
    "\n",
    "## Collection Constructors\n",
    "\n",
    "Let's build a **SortedSet**. A collection which is a **sized, iterable, sequence contailer** of a **set** of distinct items and constructable from an iterable.\n",
    "\n",
    "We will follow a **simple test driven devleopment TDD**\n",
    "\n",
    "This will be done in pycharms\n",
    "* test_sorted_set.py\n",
    "* sorted_set.py\n",
    "  \n",
    "  "
   ]
  },
  {
   "cell_type": "markdown",
   "metadata": {},
   "source": [
    "## Container Protocol\n",
    "The First container we will implement is the **container** protocol\n",
    "\n",
    "* Membership testing using **in** and **not in** infix operations.\n",
    "* Special method **dunder-containing**(item)\n",
    "* Fallback to iterable protocol"
   ]
  },
  {
   "cell_type": "markdown",
   "metadata": {},
   "source": [
    "## Sized Protocol\n",
    "Allow us to determine hoe many iterms are in a collection by passing it to the built in function, which always returns a non-negative integer\n",
    "* Number of items using **len()** functio\n",
    "* Must **not** consume or modify the collection"
   ]
  },
  {
   "cell_type": "markdown",
   "metadata": {},
   "source": [
    "## Sequence Protocol\n",
    "* Implies container, sized, and iterable\n",
    "* Retrieve slices by slicing: item = seq[index]\n",
    "  * Dunder-getitem()\n",
    "* Retrieve slices by slicing: item = seq[start:stop]\n",
    "  * Dunder-getitem()\n",
    "* Produces a revesed sequence r = reversed(seq)\n",
    "  * Fall back to the dunder-getitem() and dunder-len()\n",
    "* Find items by value: index = seq.index(item)\n",
    "  * No special method\n",
    "* Count items: num = seq.count(item)\n",
    "  * No special methods\n",
    "* Concatenation with + operator\n",
    "  * Dunder-add\n",
    "* Repetition with * operator\n",
    "  * dunder-mult\n",
    "  \n",
    "### The repr protocol\n",
    "* uses the dunder_repr method"
   ]
  },
  {
   "cell_type": "code",
   "execution_count": null,
   "metadata": {
    "collapsed": true
   },
   "outputs": [],
   "source": []
  }
 ],
 "metadata": {
  "kernelspec": {
   "display_name": "Python 3",
   "language": "python",
   "name": "python3"
  },
  "language_info": {
   "codemirror_mode": {
    "name": "ipython",
    "version": 3
   },
   "file_extension": ".py",
   "mimetype": "text/x-python",
   "name": "python",
   "nbconvert_exporter": "python",
   "pygments_lexer": "ipython3",
   "version": "3.6.3"
  }
 },
 "nbformat": 4,
 "nbformat_minor": 2
}
