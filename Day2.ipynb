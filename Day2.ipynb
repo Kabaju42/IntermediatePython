{
 "cells": [
  {
   "cell_type": "markdown",
   "metadata": {},
   "source": [
    "# First-Class Functions\n",
    "\n",
    "A programming language is said to have first-class function if it treats functions as first-class citizens. \n",
    "\n",
    "A first-class citizen (sometimes called first-class objects) is an entity that supports all the operations generally available to other entities. For exaple, being passed as an argument, returned from a function, and assigned to a variable. "
   ]
  },
  {
   "cell_type": "code",
   "execution_count": 13,
   "metadata": {},
   "outputs": [
    {
     "name": "stdout",
     "output_type": "stream",
     "text": [
      "<function square at 0x00000260B28C62F0>\n",
      "25\n"
     ]
    }
   ],
   "source": [
    "def square(x):\n",
    "    return x * x\n",
    "\n",
    "f = square(5)\n",
    "print(square)\n",
    "print(f)"
   ]
  },
  {
   "cell_type": "markdown",
   "metadata": {},
   "source": [
    "You can make **f** take the function by removing the **( )**.\n",
    "\n",
    "Note: Some people only remove the arguments instead of the parenthesis. "
   ]
  },
  {
   "cell_type": "code",
   "execution_count": 14,
   "metadata": {},
   "outputs": [
    {
     "name": "stdout",
     "output_type": "stream",
     "text": [
      "<function square at 0x00000260B28C62F0>\n",
      "<function square at 0x00000260B28C62F0>\n"
     ]
    }
   ],
   "source": [
    "f = square\n",
    "print(square)\n",
    "print(f)"
   ]
  },
  {
   "cell_type": "markdown",
   "metadata": {},
   "source": [
    "This means that **square** is a first-class function, and we can use **f** as a square"
   ]
  },
  {
   "cell_type": "code",
   "execution_count": 15,
   "metadata": {},
   "outputs": [
    {
     "name": "stdout",
     "output_type": "stream",
     "text": [
      "25\n",
      "25\n"
     ]
    }
   ],
   "source": [
    "print(f(5))\n",
    "print(square(5))"
   ]
  },
  {
   "cell_type": "markdown",
   "metadata": {},
   "source": [
    "If a function accepts functions as arguments, or returns a function, this is called **Higher Order Functions**"
   ]
  },
  {
   "cell_type": "markdown",
   "metadata": {},
   "source": [
    "## Function with function as parameters"
   ]
  },
  {
   "cell_type": "code",
   "execution_count": 16,
   "metadata": {},
   "outputs": [
    {
     "name": "stdout",
     "output_type": "stream",
     "text": [
      "[1, 4, 9, 16, 25, 36]\n"
     ]
    }
   ],
   "source": [
    "def my_map(func, arg_list):\n",
    "    \"\"\"\n",
    "    Takes a function and a list as arguments\n",
    "    and returns a new list\n",
    "    \"\"\"\n",
    "    result = []\n",
    "    for i in arg_list:\n",
    "        result.append(func(i))\n",
    "    return result\n",
    " \n",
    "# Test it with square func\n",
    "squares = my_map(square, [1, 2, 3, 4, 5, 6])\n",
    "print(squares)"
   ]
  },
  {
   "cell_type": "code",
   "execution_count": 17,
   "metadata": {},
   "outputs": [
    {
     "name": "stdout",
     "output_type": "stream",
     "text": [
      "[1, 8, 27, 64, 125, 216]\n"
     ]
    }
   ],
   "source": [
    "def cube(x):\n",
    "    return x * x * x\n",
    "\n",
    "cubes = my_map(cube, [1, 2, 3, 4, 5, 6])\n",
    "print(cubes)"
   ]
  },
  {
   "cell_type": "markdown",
   "metadata": {},
   "source": [
    "## Return a function from another function\n",
    "Note: To call the return value, which is a **callable** object, use parenthesis. "
   ]
  },
  {
   "cell_type": "code",
   "execution_count": 18,
   "metadata": {},
   "outputs": [
    {
     "name": "stdout",
     "output_type": "stream",
     "text": [
      "Log: Hi!\n"
     ]
    }
   ],
   "source": [
    "def logger(msg):\n",
    "    def log_message():\n",
    "        print(\"Log:\", msg)\n",
    "    # NO parenthesis\n",
    "    return log_message\n",
    "# test it\n",
    "log_hi = logger(\"Hi!\")\n",
    "# Now run it\n",
    "log_hi()"
   ]
  },
  {
   "cell_type": "code",
   "execution_count": 19,
   "metadata": {},
   "outputs": [
    {
     "name": "stdout",
     "output_type": "stream",
     "text": [
      "<h1>Test Headline</h1>\n"
     ]
    }
   ],
   "source": [
    "# another example\n",
    "def html_tag(tag):\n",
    "    \n",
    "    def wrap_text(msg):\n",
    "        print(\"<{0}>{1}</{0}>\".format(tag, msg))\n",
    "        \n",
    "    return wrap_text\n",
    "# Test it\n",
    "print_h1 = html_tag(\"h1\")\n",
    "print_h1(\"Test Headline\")"
   ]
  },
  {
   "cell_type": "code",
   "execution_count": 20,
   "metadata": {},
   "outputs": [
    {
     "name": "stdout",
     "output_type": "stream",
     "text": [
      "<p>test paragraph</p>\n"
     ]
    }
   ],
   "source": [
    "print_p= html_tag(\"p\")\n",
    "print_p(\"test paragraph\")"
   ]
  },
  {
   "cell_type": "markdown",
   "metadata": {},
   "source": [
    "### Local functions\n",
    "That is a function defined inside other functions. Remember the **def** key word is used to define functions. It simply binds the body of the function to a name. Just like any other object. The **def** is execute at runtime. So functions are defined at run time. "
   ]
  },
  {
   "cell_type": "code",
   "execution_count": 21,
   "metadata": {
    "collapsed": true
   },
   "outputs": [],
   "source": [
    "def func1():\n",
    "    \"\"\"Regular function\"\"\"\n",
    "    x = 1\n",
    "    y = 2\n",
    "    return x + y\n",
    "\n",
    "def func2():\n",
    "    \"\"\"Regular function\"\"\"\n",
    "    def local_func():\n",
    "        \"\"\"Local function\"\"\"\n",
    "        a = \"hello\"\n",
    "        b = \" world\"\n",
    "        return a + b\n",
    "    x = 1\n",
    "    y = 2\n",
    "    return x + y"
   ]
  },
  {
   "cell_type": "markdown",
   "metadata": {},
   "source": [
    "Local function are bound by the **Local Enclosed Global Built-in (LEGB)** rule. "
   ]
  },
  {
   "cell_type": "markdown",
   "metadata": {},
   "source": [
    "**Local Function** are NOT members of the containing function in any way. It is just a local name binding. \n",
    "\n",
    "* Useful for specilized, one-off functions\n",
    "* Aid in code organization and readability\n",
    "* Similar to Lambdas, but more general\n",
    "    * may contain multiple expression\n",
    "    * may contain statements"
   ]
  },
  {
   "cell_type": "markdown",
   "metadata": {},
   "source": [
    "## Closures and Nested Scopes\n",
    "\n",
    "Remember, a local function can be returned from a function to be used later. \n",
    "\n",
    "How the fucntion can relate to the variable that no longer exist? How can the local function operates without that enclosing scope?\n",
    "\n",
    "The answer is: **Closures**. A closure essentially remembers the object from the enclosing scope that the local function needs. It then keeps them \"alive\" so that when the local function is executed they can still be used. \n",
    "\n",
    "This prevents the auto garbage collection from cleaning the memory. \n",
    "\n",
    "Python implements closures with the **dunder closure** method. \n",
    "\n",
    "Where is this useful?"
   ]
  },
  {
   "cell_type": "markdown",
   "metadata": {},
   "source": [
    "## Function Factories\n",
    "\n",
    "A common use of **closures** is in **so-called function factories**. These functions return another function where the other function are specilized in some way based on the arguments to the \"factory\". \n",
    "\n",
    "\n",
    "Note: see raise_to.py"
   ]
  },
  {
   "cell_type": "markdown",
   "metadata": {},
   "source": [
    "## Nonlocal keyword\n",
    "Remember you can use the **global** keyword to bing names to global variables. \n",
    "\n",
    "**nonlocal** introduces names from the enclosing namespace into the **local** namespace"
   ]
  },
  {
   "cell_type": "markdown",
   "metadata": {},
   "source": [
    "# Function Decorators\n",
    "\n",
    "At a high-level **decorators** are a way to modify or enhance existing functions in a nonintrusive and amintanable way. \n",
    "\n",
    "In Python a decorator is an object that is **implemented as callable** that **takes a callable** and **returns a callable** object. \n",
    "\n",
    "Think about it as a function that takes a function as argument and returns another function. \n",
    "\n",
    "> @my_decorator<br>\n",
    "> def my_funcion():<br>\n",
    ">    ...\n",
    "\n",
    "* Replace, enhance, or modify existing functions\n",
    "* Does not change the original function definition\n",
    "* Calling code des not need to change\n",
    "* Decorator mechanism uses the modified function's original name. \n",
    "\n",
    "see: escape_unicode.py"
   ]
  },
  {
   "cell_type": "markdown",
   "metadata": {},
   "source": [
    "## Classes as decorators\n",
    "Before we were passing a function as an argument to a function, but how are going to pass a function as argument to a class?\n",
    "\n",
    "We want to decorate the same function, but now through a **Class Decorator**"
   ]
  },
  {
   "cell_type": "code",
   "execution_count": 22,
   "metadata": {},
   "outputs": [
    {
     "name": "stdout",
     "output_type": "stream",
     "text": [
      "Call method executed this before display\n",
      "Display function ran\n",
      "Call method executed this before display_info\n",
      "Display_info ran with parameters (Mario12)\n"
     ]
    }
   ],
   "source": [
    "def decorator_function(original_function):\n",
    "    def wrapper_function(*args, **kwargs):\n",
    "        print('Wrapper executed this before {}'.format(\n",
    "            original_function.__name__ ))\n",
    "        return original_function(*args, **kwargs)\n",
    "\n",
    "    return wrapper_function\n",
    "\n",
    "\n",
    "class Decorator_class(object):\n",
    "    def __init__(self, original_function):\n",
    "        self._original_function = original_function\n",
    "    # Make it callable    \n",
    "    def __call__(self, *args, **kwargs):\n",
    "        print(\"Call method executed this before {}\".format(\n",
    "        self._original_function.__name__))\n",
    "        return self._original_function(*args, **kwargs)\n",
    "\n",
    "#@decorator_function  # function decorator\n",
    "@Decorator_class   # class decorator\n",
    "def display():\n",
    "    print(\"Display function ran\")\n",
    "\n",
    "\n",
    "#@decorator_function # function decorator\n",
    "@Decorator_class   # class decorator\n",
    "def display_info(name, age):\n",
    "    print(\"Display_info ran with parameters ({}{})\".format(\n",
    "        name, age ))\n",
    "    \n",
    "# test it\n",
    "display()\n",
    "display_info(\"Mario\", 12)"
   ]
  },
  {
   "cell_type": "markdown",
   "metadata": {},
   "source": [
    "Some people like to decorate with classes. I will be using functions from now on. "
   ]
  },
  {
   "cell_type": "code",
   "execution_count": 23,
   "metadata": {},
   "outputs": [
    {
     "name": "stdout",
     "output_type": "stream",
     "text": [
      "Display_info ran with parameters (Mary 33)\n"
     ]
    }
   ],
   "source": [
    "def my_logger(orig_func):\n",
    "    import logging\n",
    "    logging.basicConfig(filename='{}.log'.format(\n",
    "        orig_func.__name__), level = logging.INFO)\n",
    "    def wrapper(*args, **kwargs):\n",
    "        logging.info(\n",
    "        \"Ran with args: {}\".format(args, kwargs))\n",
    "        return orig_func(*args, **kwargs) \n",
    "    return wrapper\n",
    "\n",
    "# Decorating\n",
    "@my_logger\n",
    "def display_info(name, age):\n",
    "    print(\"Display_info ran with parameters ({} {})\".format(\n",
    "        name, age ))\n",
    "# Test it\n",
    "display_info(\"Mary\", 33)"
   ]
  },
  {
   "cell_type": "markdown",
   "metadata": {},
   "source": [
    "Another example is to time how long function run"
   ]
  },
  {
   "cell_type": "code",
   "execution_count": 24,
   "metadata": {},
   "outputs": [
    {
     "name": "stdout",
     "output_type": "stream",
     "text": [
      "Display_info ran with parameters (Mary 33)\n",
      "display_info ran in: 1.0001182556152344\n"
     ]
    }
   ],
   "source": [
    "import time\n",
    "\n",
    "def my_timer(orig_func):\n",
    "    def wrapper(*args, **kwargs):\n",
    "        t1 = time.time()\n",
    "        result = orig_func(*args, **kwargs)\n",
    "        t2 = time.time() - t1\n",
    "        print(\"{} ran in: {}\".format(orig_func.__name__, t2))\n",
    "        return result\n",
    "    return wrapper\n",
    "# Decorating\n",
    "@my_timer\n",
    "def display_info(name, age):\n",
    "    print(\"Display_info ran with parameters ({} {})\".format(\n",
    "        name, age ))\n",
    "    time.sleep(1) # sleep\n",
    "    \n",
    "# Test it\n",
    "display_info(\"Mary\", 33)"
   ]
  },
  {
   "cell_type": "markdown",
   "metadata": {},
   "source": [
    "## Multiple decorators\n",
    "One more example to wrap everything. Apply both logger and timer decorators"
   ]
  },
  {
   "cell_type": "code",
   "execution_count": 25,
   "metadata": {},
   "outputs": [
    {
     "name": "stdout",
     "output_type": "stream",
     "text": [
      "Display_info ran with parameters (Mary 33)\n",
      "wrapper ran in: 1.0011439323425293\n"
     ]
    }
   ],
   "source": [
    "# Decorating\n",
    "@my_timer\n",
    "@my_logger\n",
    "def display_info(name, age):\n",
    "    print(\"Display_info ran with parameters ({} {})\".format(\n",
    "        name, age ))\n",
    "    time.sleep(1) # sleep\n",
    "    \n",
    "# Test it\n",
    "display_info(\"Mary\", 33)"
   ]
  },
  {
   "cell_type": "markdown",
   "metadata": {},
   "source": [
    "It is always a good idea to preserve your original decorator information by using the **functools** module. All we need to do is to decorate all of the wrapper with the **wraps** function"
   ]
  },
  {
   "cell_type": "code",
   "execution_count": 26,
   "metadata": {},
   "outputs": [
    {
     "name": "stdout",
     "output_type": "stream",
     "text": [
      "Display_info ran with parameters (Mary 33)\n",
      "display_info ran in: 1.0001437664031982\n"
     ]
    }
   ],
   "source": [
    "# Decorating\n",
    "@my_logger\n",
    "@my_timer\n",
    "def display_info(name, age):\n",
    "    print(\"Display_info ran with parameters ({} {})\".format(\n",
    "        name, age ))\n",
    "    time.sleep(1) # sleep\n",
    "    \n",
    "# Test it\n",
    "display_info(\"Mary\", 33)"
   ]
  },
  {
   "cell_type": "code",
   "execution_count": 27,
   "metadata": {},
   "outputs": [
    {
     "name": "stdout",
     "output_type": "stream",
     "text": [
      "Display_info ran with parameters (Tom 33)\n",
      "display_info ran in: 1.0027518272399902\n"
     ]
    }
   ],
   "source": [
    "import time\n",
    "from functools import wraps\n",
    "\n",
    "def my_logger(orig_func):\n",
    "    import logging\n",
    "    logging.basicConfig(filename='{}.log'.format(\n",
    "        orig_func.__name__), level = logging.INFO)\n",
    "    @wraps(orig_func)\n",
    "    def wrapper(*args, **kwargs):\n",
    "        logging.info(\n",
    "        \"Ran with args: {}\".format(args, kwargs))\n",
    "        return orig_func(*args, **kwargs) \n",
    "    return wrapper\n",
    "\n",
    "def my_timer(orig_func):\n",
    "    @wraps(orig_func)\n",
    "    def wrapper(*args, **kwargs):\n",
    "        t1 = time.time()\n",
    "        result = orig_func(*args, **kwargs)\n",
    "        t2 = time.time() - t1\n",
    "        print(\"{} ran in: {}\".format(orig_func.__name__, t2))\n",
    "        return result\n",
    "    return wrapper\n",
    "\n",
    "# Decorating\n",
    "@my_logger\n",
    "@my_timer\n",
    "def display_info(name, age):\n",
    "    print(\"Display_info ran with parameters ({} {})\".format(\n",
    "        name, age ))\n",
    "    time.sleep(1) # sleep\n",
    "    \n",
    "# Test it\n",
    "display_info(\"Tom\", 33)"
   ]
  },
  {
   "cell_type": "markdown",
   "metadata": {
    "collapsed": true
   },
   "source": [
    "Look up the webpage:\n",
    "www.pythonchallenge.com/\n",
    "\n"
   ]
  },
  {
   "cell_type": "markdown",
   "metadata": {},
   "source": [
    "# Properties and Class Methods\n",
    "\n",
    "## Class Attributes\n",
    "### Class Variables\n",
    "\n"
   ]
  },
  {
   "cell_type": "code",
   "execution_count": 31,
   "metadata": {},
   "outputs": [],
   "source": [
    "class Employee:\n",
    "    def __init__(self, first, last, pay):\n",
    "        self._first = first\n",
    "        self._last = last\n",
    "        self._pay = pay\n",
    "        self._email = first + '.' + last + '@weber.edu'\n",
    "        \n",
    "    def fullname(self):\n",
    "        return\"{}{}\".format(self._first, self._last)"
   ]
  },
  {
   "cell_type": "code",
   "execution_count": 30,
   "metadata": {},
   "outputs": [
    {
     "ename": "NameError",
     "evalue": "name 'last' is not defined",
     "output_type": "error",
     "traceback": [
      "\u001b[1;31m---------------------------------------------------------------------------\u001b[0m",
      "\u001b[1;31mNameError\u001b[0m                                 Traceback (most recent call last)",
      "\u001b[1;32m<ipython-input-30-77e9ae5a64a2>\u001b[0m in \u001b[0;36m<module>\u001b[1;34m()\u001b[0m\n\u001b[1;32m----> 1\u001b[1;33m \u001b[0me1\u001b[0m \u001b[1;33m=\u001b[0m \u001b[0mEmployee\u001b[0m\u001b[1;33m(\u001b[0m\u001b[1;34m\"Bob\"\u001b[0m\u001b[1;33m,\u001b[0m \u001b[1;34m\"white\"\u001b[0m\u001b[1;33m,\u001b[0m \u001b[1;36m8e4\u001b[0m\u001b[1;33m)\u001b[0m\u001b[1;33m\u001b[0m\u001b[0m\n\u001b[0m\u001b[0;32m      2\u001b[0m \u001b[0me2\u001b[0m \u001b[1;33m=\u001b[0m \u001b[0mEmployee\u001b[0m\u001b[1;33m(\u001b[0m\u001b[1;34m\"Dick\"\u001b[0m\u001b[1;33m,\u001b[0m \u001b[1;34m\"VanDike\"\u001b[0m\u001b[1;33m,\u001b[0m \u001b[1;36m8e8\u001b[0m\u001b[1;33m)\u001b[0m\u001b[1;33m\u001b[0m\u001b[0m\n\u001b[0;32m      3\u001b[0m \u001b[0mprint\u001b[0m\u001b[1;33m(\u001b[0m\u001b[0me1\u001b[0m\u001b[1;33m.\u001b[0m\u001b[0mfullname\u001b[0m\u001b[1;33m(\u001b[0m\u001b[1;33m)\u001b[0m\u001b[1;33m)\u001b[0m\u001b[1;33m\u001b[0m\u001b[0m\n",
      "\u001b[1;32m<ipython-input-29-55e4784f5e1e>\u001b[0m in \u001b[0;36m__init__\u001b[1;34m(self, first, alast, pay)\u001b[0m\n\u001b[0;32m      2\u001b[0m     \u001b[1;32mdef\u001b[0m \u001b[0m__init__\u001b[0m\u001b[1;33m(\u001b[0m\u001b[0mself\u001b[0m\u001b[1;33m,\u001b[0m \u001b[0mfirst\u001b[0m\u001b[1;33m,\u001b[0m \u001b[0malast\u001b[0m\u001b[1;33m,\u001b[0m \u001b[0mpay\u001b[0m\u001b[1;33m)\u001b[0m\u001b[1;33m:\u001b[0m\u001b[1;33m\u001b[0m\u001b[0m\n\u001b[0;32m      3\u001b[0m         \u001b[0mself\u001b[0m\u001b[1;33m.\u001b[0m\u001b[0m_first\u001b[0m \u001b[1;33m=\u001b[0m \u001b[0mfirst\u001b[0m\u001b[1;33m\u001b[0m\u001b[0m\n\u001b[1;32m----> 4\u001b[1;33m         \u001b[0mself\u001b[0m\u001b[1;33m.\u001b[0m\u001b[0m_last\u001b[0m \u001b[1;33m=\u001b[0m \u001b[0mlast\u001b[0m\u001b[1;33m\u001b[0m\u001b[0m\n\u001b[0m\u001b[0;32m      5\u001b[0m         \u001b[0mself\u001b[0m\u001b[1;33m.\u001b[0m\u001b[0m_pay\u001b[0m \u001b[1;33m=\u001b[0m \u001b[0mpay\u001b[0m\u001b[1;33m\u001b[0m\u001b[0m\n\u001b[0;32m      6\u001b[0m         \u001b[0mself\u001b[0m\u001b[1;33m.\u001b[0m\u001b[0m_email\u001b[0m \u001b[1;33m=\u001b[0m \u001b[0mfirst\u001b[0m \u001b[1;33m+\u001b[0m \u001b[1;34m'.'\u001b[0m \u001b[1;33m+\u001b[0m \u001b[0mlast\u001b[0m \u001b[1;33m+\u001b[0m \u001b[1;34m'@weber.edu'\u001b[0m\u001b[1;33m\u001b[0m\u001b[0m\n",
      "\u001b[1;31mNameError\u001b[0m: name 'last' is not defined"
     ]
    }
   ],
   "source": [
    "e1 = Employee(\"Bob\", \"white\", 8e4)\n",
    "e2 = Employee(\"Dick\", \"VanDike\", 8e8)\n",
    "print(e1.fullname())"
   ]
  },
  {
   "cell_type": "markdown",
   "metadata": {},
   "source": [
    "Class variables are visible for every instance of the class. Instead of local variables to one instance. Looking at the class above, what information do we want to share?\n",
    "\n"
   ]
  },
  {
   "cell_type": "code",
   "execution_count": 34,
   "metadata": {},
   "outputs": [
    {
     "name": "stdout",
     "output_type": "stream",
     "text": [
      "800000000.0\n",
      "832000000\n"
     ]
    }
   ],
   "source": [
    "class Employee:\n",
    "    def __init__(self, first, last, pay):\n",
    "        self._first = first\n",
    "        self._last = last\n",
    "        self._pay = pay\n",
    "        self._email = first + '.' + last + '@weber.edu'\n",
    "        \n",
    "    def fullname(self):\n",
    "        return\"{}{}\".format(self._first, self._last)\n",
    "    \n",
    "    def apply_raise(self):\n",
    "        self._pay = int(self._pay * 1.04) # 4% raise? really\n",
    "        \n",
    "e1 = Employee(\"Dick\", \"VanDike\", 8e8)\n",
    "print(e1._pay)\n",
    "e1.apply_raise()\n",
    "print(e1._pay)"
   ]
  },
  {
   "cell_type": "markdown",
   "metadata": {},
   "source": [
    "There are a few things wrong here. We cannot acces the emp1.raise_amount because it does not exist\n",
    "\n",
    "What if you need to change the 4%\n",
    "\n",
    "Make a class variable"
   ]
  },
  {
   "cell_type": "code",
   "execution_count": 35,
   "metadata": {},
   "outputs": [
    {
     "name": "stdout",
     "output_type": "stream",
     "text": [
      "800000000.0\n",
      "832000000\n"
     ]
    }
   ],
   "source": [
    "class Employee:\n",
    "    raise_amount = 1.04\n",
    "    def __init__(self, first, last, pay):\n",
    "        self._first = first\n",
    "        self._last = last\n",
    "        self._pay = pay\n",
    "        self._email = first + '.' + last + '@weber.edu'\n",
    "        \n",
    "    def fullname(self):\n",
    "        return\"{}{}\".format(self._first, self._last)\n",
    "    \n",
    "    def apply_raise(self):\n",
    "        self._pay = int(self._pay * self.raise_amount) # 4% raise? really\n",
    "        \n",
    "e1 = Employee(\"Dick\", \"VanDike\", 8e8)\n",
    "print(e1._pay)\n",
    "e1.apply_raise()\n",
    "print(e1._pay)"
   ]
  },
  {
   "cell_type": "code",
   "execution_count": 36,
   "metadata": {},
   "outputs": [
    {
     "name": "stdout",
     "output_type": "stream",
     "text": [
      "1.04\n",
      "1.04\n",
      "1.04\n"
     ]
    }
   ],
   "source": [
    "# Access class variable sthorugh the class itself\n",
    "# or an instance of the class\n",
    "\n",
    "e1 = Employee(\"Bob\", \"white\", 8e4)\n",
    "e2 = Employee(\"Dick\", \"VanDike\", 8e8)\n",
    "print(Employee.raise_amount)\n",
    "print(e1.raise_amount)\n",
    "print(e2.raise_amount)"
   ]
  },
  {
   "cell_type": "markdown",
   "metadata": {},
   "source": [
    "Now lets look at the namespace of the object\n"
   ]
  },
  {
   "cell_type": "code",
   "execution_count": 38,
   "metadata": {},
   "outputs": [
    {
     "name": "stdout",
     "output_type": "stream",
     "text": [
      "{'_first': 'Bob', '_last': 'white', '_pay': 80000.0, '_email': 'Bob.white@weber.edu'}\n",
      "{'_first': 'Dick', '_last': 'VanDike', '_pay': 800000000.0, '_email': 'Dick.VanDike@weber.edu'}\n"
     ]
    }
   ],
   "source": [
    "print(e1.__dict__)\n",
    "print(e2.__dict__)"
   ]
  },
  {
   "cell_type": "code",
   "execution_count": 39,
   "metadata": {},
   "outputs": [
    {
     "name": "stdout",
     "output_type": "stream",
     "text": [
      "{'_first': 'Bob', '_last': 'white', '_pay': 80000.0, '_email': 'Bob.white@weber.edu', 'raise_amount': 1.08}\n",
      "{'_first': 'Dick', '_last': 'VanDike', '_pay': 800000000.0, '_email': 'Dick.VanDike@weber.edu'}\n"
     ]
    }
   ],
   "source": [
    "e1.raise_amount = 1.08\n",
    "print(e1.__dict__)\n",
    "print(e2.__dict__)\n"
   ]
  },
  {
   "cell_type": "markdown",
   "metadata": {},
   "source": [
    "Now we find the variable within the local namespace. This is an importanc concept \n"
   ]
  },
  {
   "cell_type": "markdown",
   "metadata": {},
   "source": [
    "## Class Methods and Static Methods\n",
    "Reguar Methods in our classes, take the **self** as the first argument (by convention). \n",
    "\n",
    "To turn a regular method into a **class method** use a decorator **@classmethod**"
   ]
  },
  {
   "cell_type": "code",
   "execution_count": 40,
   "metadata": {},
   "outputs": [
    {
     "ename": "SyntaxError",
     "evalue": "invalid syntax (<ipython-input-40-ee196fc716f6>, line 2)",
     "output_type": "error",
     "traceback": [
      "\u001b[1;36m  File \u001b[1;32m\"<ipython-input-40-ee196fc716f6>\"\u001b[1;36m, line \u001b[1;32m2\u001b[0m\n\u001b[1;33m    s.isupper([:3])\u001b[0m\n\u001b[1;37m               ^\u001b[0m\n\u001b[1;31mSyntaxError\u001b[0m\u001b[1;31m:\u001b[0m invalid syntax\n"
     ]
    }
   ],
   "source": [
    "s = PPPpPPP\n",
    "s.isupper([:3])"
   ]
  },
  {
   "cell_type": "code",
   "execution_count": null,
   "metadata": {
    "collapsed": true
   },
   "outputs": [],
   "source": []
  }
 ],
 "metadata": {
  "kernelspec": {
   "display_name": "Python 3",
   "language": "python",
   "name": "python3"
  },
  "language_info": {
   "codemirror_mode": {
    "name": "ipython",
    "version": 3
   },
   "file_extension": ".py",
   "mimetype": "text/x-python",
   "name": "python",
   "nbconvert_exporter": "python",
   "pygments_lexer": "ipython3",
   "version": "3.6.3"
  }
 },
 "nbformat": 4,
 "nbformat_minor": 1
}
