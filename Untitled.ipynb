{
 "cells": [
  {
   "cell_type": "markdown",
   "metadata": {},
   "source": [
    "# Special (Magic/Dunder) Methods\n",
    "Ho to implement operator overlaod\n"
   ]
  },
  {
   "cell_type": "code",
   "execution_count": 1,
   "metadata": {},
   "outputs": [
    {
     "name": "stdout",
     "output_type": "stream",
     "text": [
      "3\n",
      "hello world\n"
     ]
    }
   ],
   "source": [
    "print(1 + 2)\n",
    "print('hello world')"
   ]
  },
  {
   "cell_type": "code",
   "execution_count": 2,
   "metadata": {
    "collapsed": true
   },
   "outputs": [],
   "source": [
    "class Employee:\n",
    "    num_of_emps = 0\n",
    "    raise_amount = 1.04\n",
    "    \n",
    "    def __init__(self, first, last, pay):\n",
    "        self._first = first\n",
    "        self._last = last\n",
    "        self._pay = pay\n",
    "        self.email = first + '.' + last + '@weber.edu'\n",
    "        Employee.num_of_emps += 1\n",
    "        \n",
    "    def fullname(self):\n",
    "        return '{} {}'.format(self._first, self._last)\n",
    "    \n",
    "    def apply_raise(self):\n",
    "        self._pay = int(self._pay * self.raise_amount)"
   ]
  },
  {
   "cell_type": "code",
   "execution_count": 3,
   "metadata": {},
   "outputs": [
    {
     "name": "stdout",
     "output_type": "stream",
     "text": [
      "<__main__.Employee object at 0x000002240AD19160>\n"
     ]
    }
   ],
   "source": [
    "emp1 = Employee('sean', 'penn', 30000)\n",
    "print(emp1)"
   ]
  },
  {
   "cell_type": "markdown",
   "metadata": {},
   "source": [
    "By defining your own special methods **duner methods**, we will be able to shape the behavior to our needs.\n",
    "\n",
    "Two of the most common methods are:\n",
    "* dunder-repr\n",
    "* dunder-str"
   ]
  },
  {
   "cell_type": "code",
   "execution_count": 4,
   "metadata": {},
   "outputs": [
    {
     "data": {
      "text/plain": [
       "\"<class 'int'>\""
      ]
     },
     "execution_count": 4,
     "metadata": {},
     "output_type": "execute_result"
    }
   ],
   "source": [
    "repr(int)\n"
   ]
  },
  {
   "cell_type": "code",
   "execution_count": 5,
   "metadata": {},
   "outputs": [
    {
     "data": {
      "text/plain": [
       "\"<class 'int'>\""
      ]
     },
     "execution_count": 5,
     "metadata": {},
     "output_type": "execute_result"
    }
   ],
   "source": [
    "str(int)"
   ]
  },
  {
   "cell_type": "markdown",
   "metadata": {},
   "source": [
    "### What is the difference beteween str() and repr()?"
   ]
  },
  {
   "cell_type": "code",
   "execution_count": 8,
   "metadata": {},
   "outputs": [
    {
     "name": "stdout",
     "output_type": "stream",
     "text": [
      "[1, 2, 3, 4]\n",
      "[1, 2, 3, 4]\n",
      "sample string\n",
      "'sample string'\n"
     ]
    }
   ],
   "source": [
    "a = [1, 2, 3, 4]\n",
    "b = 'sample string'\n",
    "print(str(a))\n",
    "print(repr(a))\n",
    "\n",
    "print(str(b))\n",
    "print(repr(b))"
   ]
  },
  {
   "cell_type": "markdown",
   "metadata": {},
   "source": [
    "The goal of **dunder-repr** is to be unabmiguours (more for developers)\n",
    "the goal of **dunder-str** is to be more readable (more for regualar  users)"
   ]
  },
  {
   "cell_type": "code",
   "execution_count": 11,
   "metadata": {},
   "outputs": [
    {
     "name": "stdout",
     "output_type": "stream",
     "text": [
      "2017-06-11 04:35:48.152345\n",
      "2017-06-11 04:45:48.152345\n"
     ]
    }
   ],
   "source": [
    "import datetime\n",
    "a = datetime.datetime(2017, 6, 11, 4, 35, 48, 152345)\n",
    "b = \"2017-06-11 04:45:48.152345\"\n",
    "print(a)\n",
    "print(b)"
   ]
  },
  {
   "cell_type": "code",
   "execution_count": 12,
   "metadata": {},
   "outputs": [
    {
     "name": "stdout",
     "output_type": "stream",
     "text": [
      "datetime.datetime(2017, 6, 11, 4, 35, 48, 152345)\n",
      "'2017-06-11 04:45:48.152345'\n"
     ]
    }
   ],
   "source": [
    "print(repr(a))\n",
    "print(repr(b))"
   ]
  },
  {
   "cell_type": "code",
   "execution_count": 25,
   "metadata": {
    "collapsed": true
   },
   "outputs": [],
   "source": [
    "class Employee:\n",
    "    num_of_emps = 0\n",
    "    raise_amount = 1.04\n",
    "    \n",
    "    def __init__(self, first, last, pay):\n",
    "        self._first = first\n",
    "        self._last = last\n",
    "        self._pay = pay\n",
    "        self._email = first + '.' + last + '@weber.edu'\n",
    "        Employee.num_of_emps += 1\n",
    "        \n",
    "    def fullname(self):\n",
    "        return '{} {}'.format(self._first, self._last)\n",
    "    \n",
    "    def apply_raise(self):\n",
    "        self._pay = int(self._pay * self.raise_amount)\n",
    "        \n",
    "    # Something you can copy/paste back to python \n",
    "    # to recreate the object\n",
    "    def __repr__(self):\n",
    "        return \"Employee('{}', '{}', '{}')\".format(self._first, self._last, self._pay)\n",
    "    \n",
    "    def __str__(self):\n",
    "        return\"{} - {}\".format(self.fullname(), self._email)\n",
    "    \n",
    "    "
   ]
  },
  {
   "cell_type": "code",
   "execution_count": 26,
   "metadata": {},
   "outputs": [
    {
     "name": "stdout",
     "output_type": "stream",
     "text": [
      "sean penn - sean.penn@weber.edu\n",
      "Employee('sean', 'penn', '300000')\n"
     ]
    }
   ],
   "source": [
    "emp1 = Employee('sean', 'penn', 300000)\n",
    "print(emp1)\n",
    "print(repr(emp1))"
   ]
  },
  {
   "cell_type": "markdown",
   "metadata": {},
   "source": [
    "### More common magic methods"
   ]
  },
  {
   "cell_type": "code",
   "execution_count": 27,
   "metadata": {},
   "outputs": [
    {
     "name": "stdout",
     "output_type": "stream",
     "text": [
      "3\n"
     ]
    }
   ],
   "source": [
    "# using __add__\n",
    "print(1 + 2)"
   ]
  },
  {
   "cell_type": "code",
   "execution_count": 30,
   "metadata": {},
   "outputs": [
    {
     "name": "stdout",
     "output_type": "stream",
     "text": [
      "3\n",
      "ab\n"
     ]
    }
   ],
   "source": [
    "print(int.__add__(1, 2))\n",
    "print(str.__add__('a', 'b'))"
   ]
  },
  {
   "cell_type": "code",
   "execution_count": 31,
   "metadata": {},
   "outputs": [
    {
     "name": "stdout",
     "output_type": "stream",
     "text": [
      "juan perez - juan.perez@weber.edu\n",
      "sean penn - sean.penn@weber.edu\n",
      "80000\n"
     ]
    }
   ],
   "source": [
    "class Employee:\n",
    "    num_of_emps = 0\n",
    "    raise_amount = 1.04\n",
    "    \n",
    "    def __init__(self, first, last, pay):\n",
    "        self._first = first\n",
    "        self._last = last\n",
    "        self._pay = pay\n",
    "        self._email = first + '.' + last + '@weber.edu'\n",
    "        Employee.num_of_emps += 1\n",
    "        \n",
    "    def fullname(self):\n",
    "        return '{} {}'.format(self._first, self._last)\n",
    "    \n",
    "    def apply_raise(self):\n",
    "        self._pay = int(self._pay * self.raise_amount)\n",
    "        \n",
    "    # Something you can copy/paste back to python \n",
    "    # to recreate the object\n",
    "    def __repr__(self):\n",
    "        return \"Employee('{}', '{}', '{}')\".format(self._first, self._last, self._pay)\n",
    "    \n",
    "    def __str__(self):\n",
    "        return\"{} - {}\".format(self.fullname(), self._email)\n",
    "    \n",
    "    # return combined salaries\n",
    "    def __add__(self, other):\n",
    "        return self._pay + other._pay\n",
    " \n",
    "\n",
    "# test\n",
    "emp1 = Employee('juan', 'perez', 50000)\n",
    "emp2 = Employee('sean', 'penn', 30000)\n",
    "print(emp1)\n",
    "print(emp2)\n",
    "print(emp1 + emp2)"
   ]
  },
  {
   "cell_type": "markdown",
   "metadata": {},
   "source": [
    "## the len() built in\n"
   ]
  },
  {
   "cell_type": "code",
   "execution_count": 33,
   "metadata": {},
   "outputs": [
    {
     "name": "stdout",
     "output_type": "stream",
     "text": [
      "11\n",
      "11\n"
     ]
    }
   ],
   "source": [
    "print(len(\"weber state\"))\n",
    "print(\"weber state\".__len__())"
   ]
  },
  {
   "cell_type": "code",
   "execution_count": 35,
   "metadata": {},
   "outputs": [
    {
     "name": "stdout",
     "output_type": "stream",
     "text": [
      "10\n"
     ]
    }
   ],
   "source": [
    "class Employee:\n",
    "    num_of_emps = 0\n",
    "    raise_amount = 1.04\n",
    "    \n",
    "    def __init__(self, first, last, pay):\n",
    "        self._first = first\n",
    "        self._last = last\n",
    "        self._pay = pay\n",
    "        self._email = first + '.' + last + '@weber.edu'\n",
    "        Employee.num_of_emps += 1\n",
    "        \n",
    "    def fullname(self):\n",
    "        return '{} {}'.format(self._first, self._last)\n",
    "    \n",
    "    def apply_raise(self):\n",
    "        self._pay = int(self._pay * self.raise_amount)\n",
    "        \n",
    "    # Something you can copy/paste back to python \n",
    "    # to recreate the object\n",
    "    def __repr__(self):\n",
    "        return \"Employee('{}', '{}', '{}')\".format(self._first, self._last, self._pay)\n",
    "    \n",
    "    def __str__(self):\n",
    "        return\"{} - {}\".format(self.fullname(), self._email)\n",
    "    \n",
    "    # return combined salaries\n",
    "    def __add__(self, other):\n",
    "        return self._pay + other._pay\n",
    "    \n",
    "    def __len__(self):\n",
    "        return len(self.fullname())\n",
    " \n",
    "\n",
    "# test\n",
    "emp1 = Employee('juan', 'perez', 50000)\n",
    "emp2 = Employee('sean', 'penn', 30000)\n",
    "print(len(emp1))"
   ]
  },
  {
   "cell_type": "markdown",
   "metadata": {},
   "source": [
    "Note that the **str()** will call your **dunder-repr** method IF the **dunder-str** is NOT defined, but the reverse is not true"
   ]
  },
  {
   "cell_type": "markdown",
   "metadata": {},
   "source": [
    "### The special dunder-format format\n",
    "Invoke by str.format\n",
    "\n",
    "Note: see twoPoint.pyh for example\n",
    "\n",
    "### What is the format?\n",
    "Anything you pass to dunder-format method\n",
    "Replacement fields:\n",
    "* {field_name:format_spec}\n",
    "* OPtional format specification after the colon\n"
   ]
  },
  {
   "cell_type": "code",
   "execution_count": 38,
   "metadata": {},
   "outputs": [
    {
     "data": {
      "text/plain": [
       "'(1, 2)'"
      ]
     },
     "execution_count": 38,
     "metadata": {},
     "output_type": "execute_result"
    }
   ],
   "source": [
    "class Point2D:\n",
    "    def __init__(self, x, y):\n",
    "        self._x = x\n",
    "        self._y = y\n",
    "\n",
    "    def __str__(self):\n",
    "        return '({}, {})'.format(str(self._x), str(self._y))\n",
    "\n",
    "    # As a rule you should always add the __repr__\n",
    "    def __repr__(self):\n",
    "        return 'Point2D({}, {})'.format(str(self._x), str(self._y))\n",
    "\n",
    "    def __add__(self, other):\n",
    "        return Point2D(self._x + other._x, self._y + other._y)\n",
    "\n",
    "    def __format__(self, format_spec):\n",
    "        if format_spec == 'r':\n",
    "            return '{}, {}'.format(self._x, self._y)\n",
    "        else:\n",
    "            return'({}, {})'.format(self._x, self._y)\n",
    "        \n",
    "        \n",
    "\"{}\".format(Point2D(x=1, y=2))"
   ]
  },
  {
   "cell_type": "code",
   "execution_count": 39,
   "metadata": {},
   "outputs": [
    {
     "data": {
      "text/plain": [
       "'0, 3'"
      ]
     },
     "execution_count": 39,
     "metadata": {},
     "output_type": "execute_result"
    }
   ],
   "source": [
    "\"{:r}\".format(Point2D(x=0, y=3))"
   ]
  },
  {
   "cell_type": "code",
   "execution_count": null,
   "metadata": {
    "collapsed": true
   },
   "outputs": [],
   "source": []
  }
 ],
 "metadata": {
  "kernelspec": {
   "display_name": "Python 3",
   "language": "python",
   "name": "python3"
  },
  "language_info": {
   "codemirror_mode": {
    "name": "ipython",
    "version": 3
   },
   "file_extension": ".py",
   "mimetype": "text/x-python",
   "name": "python",
   "nbconvert_exporter": "python",
   "pygments_lexer": "ipython3",
   "version": "3.6.3"
  }
 },
 "nbformat": 4,
 "nbformat_minor": 2
}
